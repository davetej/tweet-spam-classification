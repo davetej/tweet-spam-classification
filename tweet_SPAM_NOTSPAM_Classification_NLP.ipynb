{
 "cells": [
  {
   "cell_type": "code",
   "execution_count": 1,
   "id": "48d13510",
   "metadata": {
    "scrolled": true
   },
   "outputs": [
    {
     "name": "stderr",
     "output_type": "stream",
     "text": [
      "[nltk_data] Downloading package stopwords to\n",
      "[nltk_data]     C:\\Users\\admin\\AppData\\Roaming\\nltk_data...\n",
      "[nltk_data]   Package stopwords is already up-to-date!\n"
     ]
    }
   ],
   "source": [
    "import pandas as pd\n",
    "import re\n",
    "import string\n",
    "import nltk\n",
    "import emoji\n",
    "\n",
    "wn = nltk.WordNetLemmatizer()\n",
    "nltk.download('stopwords')\n",
    "stopword = nltk.corpus.stopwords.words('english')"
   ]
  },
  {
   "cell_type": "markdown",
   "id": "c265c3bf",
   "metadata": {},
   "source": [
    "### Reading Dataset"
   ]
  },
  {
   "cell_type": "code",
   "execution_count": 2,
   "id": "55027cd8",
   "metadata": {},
   "outputs": [],
   "source": [
    "dataset = pd.read_csv('SMSSpamCollection.tsv',\n",
    "                      names=['labels','content'],\n",
    "                      sep='\\t',header = None)"
   ]
  },
  {
   "cell_type": "code",
   "execution_count": 3,
   "id": "a8e45ce2",
   "metadata": {},
   "outputs": [
    {
     "data": {
      "text/html": [
       "<div>\n",
       "<style scoped>\n",
       "    .dataframe tbody tr th:only-of-type {\n",
       "        vertical-align: middle;\n",
       "    }\n",
       "\n",
       "    .dataframe tbody tr th {\n",
       "        vertical-align: top;\n",
       "    }\n",
       "\n",
       "    .dataframe thead th {\n",
       "        text-align: right;\n",
       "    }\n",
       "</style>\n",
       "<table border=\"1\" class=\"dataframe\">\n",
       "  <thead>\n",
       "    <tr style=\"text-align: right;\">\n",
       "      <th></th>\n",
       "      <th>labels</th>\n",
       "      <th>content</th>\n",
       "    </tr>\n",
       "  </thead>\n",
       "  <tbody>\n",
       "    <tr>\n",
       "      <th>0</th>\n",
       "      <td>ham</td>\n",
       "      <td>I've been searching for the right words to tha...</td>\n",
       "    </tr>\n",
       "    <tr>\n",
       "      <th>1</th>\n",
       "      <td>spam</td>\n",
       "      <td>Free entry in 2 a wkly comp to win FA Cup fina...</td>\n",
       "    </tr>\n",
       "    <tr>\n",
       "      <th>2</th>\n",
       "      <td>ham</td>\n",
       "      <td>Nah I don't think he goes to usf, he lives aro...</td>\n",
       "    </tr>\n",
       "    <tr>\n",
       "      <th>3</th>\n",
       "      <td>ham</td>\n",
       "      <td>Even my brother is not like to speak with me. ...</td>\n",
       "    </tr>\n",
       "    <tr>\n",
       "      <th>4</th>\n",
       "      <td>ham</td>\n",
       "      <td>I HAVE A DATE ON SUNDAY WITH WILL!!</td>\n",
       "    </tr>\n",
       "  </tbody>\n",
       "</table>\n",
       "</div>"
      ],
      "text/plain": [
       "  labels                                            content\n",
       "0    ham  I've been searching for the right words to tha...\n",
       "1   spam  Free entry in 2 a wkly comp to win FA Cup fina...\n",
       "2    ham  Nah I don't think he goes to usf, he lives aro...\n",
       "3    ham  Even my brother is not like to speak with me. ...\n",
       "4    ham                I HAVE A DATE ON SUNDAY WITH WILL!!"
      ]
     },
     "execution_count": 3,
     "metadata": {},
     "output_type": "execute_result"
    }
   ],
   "source": [
    "dataset.head()"
   ]
  },
  {
   "cell_type": "code",
   "execution_count": 4,
   "id": "8a9e383d",
   "metadata": {},
   "outputs": [
    {
     "data": {
      "text/plain": [
       "(5568, 2)"
      ]
     },
     "execution_count": 4,
     "metadata": {},
     "output_type": "execute_result"
    }
   ],
   "source": [
    "dataset.shape"
   ]
  },
  {
   "cell_type": "markdown",
   "id": "b7034a5e",
   "metadata": {},
   "source": [
    "We have 2 features and 5568 Observation. The data is SMS dataset, with a label SPAM or HAM(Not SPAM). "
   ]
  },
  {
   "cell_type": "code",
   "execution_count": 5,
   "id": "9c966cbc",
   "metadata": {
    "scrolled": true
   },
   "outputs": [
    {
     "data": {
      "text/plain": [
       "<bound method DataFrame.info of      labels                                            content\n",
       "0       ham  I've been searching for the right words to tha...\n",
       "1      spam  Free entry in 2 a wkly comp to win FA Cup fina...\n",
       "2       ham  Nah I don't think he goes to usf, he lives aro...\n",
       "3       ham  Even my brother is not like to speak with me. ...\n",
       "4       ham                I HAVE A DATE ON SUNDAY WITH WILL!!\n",
       "...     ...                                                ...\n",
       "5563   spam  This is the 2nd time we have tried 2 contact u...\n",
       "5564    ham               Will ü b going to esplanade fr home?\n",
       "5565    ham  Pity, * was in mood for that. So...any other s...\n",
       "5566    ham  The guy did some bitching but I acted like i'd...\n",
       "5567    ham                         Rofl. Its true to its name\n",
       "\n",
       "[5568 rows x 2 columns]>"
      ]
     },
     "execution_count": 5,
     "metadata": {},
     "output_type": "execute_result"
    }
   ],
   "source": [
    "dataset.info"
   ]
  },
  {
   "cell_type": "code",
   "execution_count": 6,
   "id": "cb589770",
   "metadata": {
    "scrolled": false
   },
   "outputs": [
    {
     "data": {
      "text/html": [
       "<div>\n",
       "<style scoped>\n",
       "    .dataframe tbody tr th:only-of-type {\n",
       "        vertical-align: middle;\n",
       "    }\n",
       "\n",
       "    .dataframe tbody tr th {\n",
       "        vertical-align: top;\n",
       "    }\n",
       "\n",
       "    .dataframe thead th {\n",
       "        text-align: right;\n",
       "    }\n",
       "</style>\n",
       "<table border=\"1\" class=\"dataframe\">\n",
       "  <thead>\n",
       "    <tr style=\"text-align: right;\">\n",
       "      <th></th>\n",
       "      <th>labels</th>\n",
       "      <th>content</th>\n",
       "    </tr>\n",
       "  </thead>\n",
       "  <tbody>\n",
       "    <tr>\n",
       "      <th>1</th>\n",
       "      <td>spam</td>\n",
       "      <td>Free entry in 2 a wkly comp to win FA Cup fina...</td>\n",
       "    </tr>\n",
       "    <tr>\n",
       "      <th>5</th>\n",
       "      <td>ham</td>\n",
       "      <td>As per your request 'Melle Melle (Oru Minnamin...</td>\n",
       "    </tr>\n",
       "    <tr>\n",
       "      <th>6</th>\n",
       "      <td>spam</td>\n",
       "      <td>WINNER!! As a valued network customer you have...</td>\n",
       "    </tr>\n",
       "    <tr>\n",
       "      <th>7</th>\n",
       "      <td>spam</td>\n",
       "      <td>Had your mobile 11 months or more? U R entitle...</td>\n",
       "    </tr>\n",
       "    <tr>\n",
       "      <th>9</th>\n",
       "      <td>spam</td>\n",
       "      <td>SIX chances to win CASH! From 100 to 20,000 po...</td>\n",
       "    </tr>\n",
       "    <tr>\n",
       "      <th>...</th>\n",
       "      <td>...</td>\n",
       "      <td>...</td>\n",
       "    </tr>\n",
       "    <tr>\n",
       "      <th>5520</th>\n",
       "      <td>spam</td>\n",
       "      <td>You are awarded a SiPix Digital Camera! call 0...</td>\n",
       "    </tr>\n",
       "    <tr>\n",
       "      <th>5531</th>\n",
       "      <td>ham</td>\n",
       "      <td>I know you are thinkin malaria. But relax, chi...</td>\n",
       "    </tr>\n",
       "    <tr>\n",
       "      <th>5535</th>\n",
       "      <td>ham</td>\n",
       "      <td>Just sleeping..and surfing</td>\n",
       "    </tr>\n",
       "    <tr>\n",
       "      <th>5549</th>\n",
       "      <td>ham</td>\n",
       "      <td>Hahaha..use your brain dear</td>\n",
       "    </tr>\n",
       "    <tr>\n",
       "      <th>5554</th>\n",
       "      <td>ham</td>\n",
       "      <td>Sorry, I'll call later</td>\n",
       "    </tr>\n",
       "  </tbody>\n",
       "</table>\n",
       "<p>684 rows × 2 columns</p>\n",
       "</div>"
      ],
      "text/plain": [
       "     labels                                            content\n",
       "1      spam  Free entry in 2 a wkly comp to win FA Cup fina...\n",
       "5       ham  As per your request 'Melle Melle (Oru Minnamin...\n",
       "6      spam  WINNER!! As a valued network customer you have...\n",
       "7      spam  Had your mobile 11 months or more? U R entitle...\n",
       "9      spam  SIX chances to win CASH! From 100 to 20,000 po...\n",
       "...     ...                                                ...\n",
       "5520   spam  You are awarded a SiPix Digital Camera! call 0...\n",
       "5531    ham  I know you are thinkin malaria. But relax, chi...\n",
       "5535    ham                         Just sleeping..and surfing\n",
       "5549    ham                        Hahaha..use your brain dear\n",
       "5554    ham                             Sorry, I'll call later\n",
       "\n",
       "[684 rows x 2 columns]"
      ]
     },
     "execution_count": 6,
     "metadata": {},
     "output_type": "execute_result"
    }
   ],
   "source": [
    "dataset[dataset['content'].duplicated(keep=False)]"
   ]
  },
  {
   "cell_type": "markdown",
   "id": "08ac48b4",
   "metadata": {},
   "source": [
    "We do have duplicates. It is always good idea to drop duplicates"
   ]
  },
  {
   "cell_type": "code",
   "execution_count": 7,
   "id": "63a097a3",
   "metadata": {},
   "outputs": [],
   "source": [
    "#dataset.drop_duplicates(subset=['content'],keep='first', inplace=True)"
   ]
  },
  {
   "cell_type": "code",
   "execution_count": 8,
   "id": "78bcec16",
   "metadata": {},
   "outputs": [
    {
     "data": {
      "text/plain": [
       "(5568, 2)"
      ]
     },
     "execution_count": 8,
     "metadata": {},
     "output_type": "execute_result"
    }
   ],
   "source": [
    "dataset.shape"
   ]
  },
  {
   "cell_type": "markdown",
   "id": "2c556171",
   "metadata": {},
   "source": [
    "### Data Cleaning"
   ]
  },
  {
   "cell_type": "code",
   "execution_count": 9,
   "id": "29e9ebff",
   "metadata": {},
   "outputs": [],
   "source": [
    "def clean_text(text):\n",
    "    \n",
    "    text = re.sub(r'@[A-Za-z0-9]+', '', str(text)) # remove @mentions\n",
    "    text = re.sub(r'#', '',  str(text)) # remove the '#' symbol\n",
    "    text = re.sub(r'RT[\\s]+', '',  str(text)) # remove RT\n",
    "    text = re.sub(r'https?\\/\\/S+', '',  str(text)) # remove the hyperlink\n",
    "    text = re.sub(r'http\\S+', '',  str(text)) # remove the hyperlink\n",
    "    text = re.sub(r'www\\S+', '',  str(text)) # remove the www\n",
    "    text = re.sub(r'twitter+', '',  str(text)) # remove the twiiter\n",
    "    text = re.sub(r'pic+', '',  str(text)) # remove the pic\n",
    "    text = re.sub(r'com', '',  str(text)) # remove the pic\n",
    "    text = re.sub('\\n', '',str(text))# remove \\n from the text\n",
    "    text = text.strip()\n",
    "    text = \"\".join([word.lower() for word in text if word not in string.punctuation])\n",
    "    emoji.get_emoji_regexp().sub(u'', text)\n",
    "    tokens = re.split('\\W+', text)\n",
    "    text = \" \".join([wn.lemmatize(word) for word in tokens if word not in stopword])#lemmatization\n",
    "#     text = [wn.lemmatize(word) for word in tokens if word not in stopword]\n",
    "    \n",
    "    \n",
    "    return text\n"
   ]
  },
  {
   "cell_type": "code",
   "execution_count": 10,
   "id": "12cf5cbd",
   "metadata": {},
   "outputs": [
    {
     "data": {
      "text/html": [
       "<div>\n",
       "<style scoped>\n",
       "    .dataframe tbody tr th:only-of-type {\n",
       "        vertical-align: middle;\n",
       "    }\n",
       "\n",
       "    .dataframe tbody tr th {\n",
       "        vertical-align: top;\n",
       "    }\n",
       "\n",
       "    .dataframe thead th {\n",
       "        text-align: right;\n",
       "    }\n",
       "</style>\n",
       "<table border=\"1\" class=\"dataframe\">\n",
       "  <thead>\n",
       "    <tr style=\"text-align: right;\">\n",
       "      <th></th>\n",
       "      <th>labels</th>\n",
       "      <th>content</th>\n",
       "    </tr>\n",
       "  </thead>\n",
       "  <tbody>\n",
       "    <tr>\n",
       "      <th>0</th>\n",
       "      <td>ham</td>\n",
       "      <td>I've been searching for the right words to tha...</td>\n",
       "    </tr>\n",
       "    <tr>\n",
       "      <th>1</th>\n",
       "      <td>spam</td>\n",
       "      <td>Free entry in 2 a wkly comp to win FA Cup fina...</td>\n",
       "    </tr>\n",
       "    <tr>\n",
       "      <th>2</th>\n",
       "      <td>ham</td>\n",
       "      <td>Nah I don't think he goes to usf, he lives aro...</td>\n",
       "    </tr>\n",
       "    <tr>\n",
       "      <th>3</th>\n",
       "      <td>ham</td>\n",
       "      <td>Even my brother is not like to speak with me. ...</td>\n",
       "    </tr>\n",
       "    <tr>\n",
       "      <th>4</th>\n",
       "      <td>ham</td>\n",
       "      <td>I HAVE A DATE ON SUNDAY WITH WILL!!</td>\n",
       "    </tr>\n",
       "  </tbody>\n",
       "</table>\n",
       "</div>"
      ],
      "text/plain": [
       "  labels                                            content\n",
       "0    ham  I've been searching for the right words to tha...\n",
       "1   spam  Free entry in 2 a wkly comp to win FA Cup fina...\n",
       "2    ham  Nah I don't think he goes to usf, he lives aro...\n",
       "3    ham  Even my brother is not like to speak with me. ...\n",
       "4    ham                I HAVE A DATE ON SUNDAY WITH WILL!!"
      ]
     },
     "execution_count": 10,
     "metadata": {},
     "output_type": "execute_result"
    }
   ],
   "source": [
    "dataset.head()"
   ]
  },
  {
   "cell_type": "code",
   "execution_count": 11,
   "id": "f414ccbd",
   "metadata": {},
   "outputs": [
    {
     "name": "stderr",
     "output_type": "stream",
     "text": [
      "C:\\Users\\admin\\AppData\\Local\\Temp\\ipykernel_8844\\3193103632.py:15: DeprecationWarning: 'emoji.get_emoji_regexp()' is deprecated and will be removed in version 2.0.0. If you want to remove emoji from a string, consider the method emoji.replace_emoji(str, replace='').\n",
      "To hide this warning, pin/downgrade the package to 'emoji~=1.6.3'\n",
      "  emoji.get_emoji_regexp().sub(u'', text)\n"
     ]
    }
   ],
   "source": [
    "dataset['cleaned_content'] = dataset['content'].apply(lambda x: clean_text(x))"
   ]
  },
  {
   "cell_type": "code",
   "execution_count": 12,
   "id": "91fb8992",
   "metadata": {},
   "outputs": [
    {
     "data": {
      "text/html": [
       "<div>\n",
       "<style scoped>\n",
       "    .dataframe tbody tr th:only-of-type {\n",
       "        vertical-align: middle;\n",
       "    }\n",
       "\n",
       "    .dataframe tbody tr th {\n",
       "        vertical-align: top;\n",
       "    }\n",
       "\n",
       "    .dataframe thead th {\n",
       "        text-align: right;\n",
       "    }\n",
       "</style>\n",
       "<table border=\"1\" class=\"dataframe\">\n",
       "  <thead>\n",
       "    <tr style=\"text-align: right;\">\n",
       "      <th></th>\n",
       "      <th>labels</th>\n",
       "      <th>content</th>\n",
       "      <th>cleaned_content</th>\n",
       "    </tr>\n",
       "  </thead>\n",
       "  <tbody>\n",
       "    <tr>\n",
       "      <th>5563</th>\n",
       "      <td>spam</td>\n",
       "      <td>This is the 2nd time we have tried 2 contact u...</td>\n",
       "      <td>2nd time tried 2 contact u u 750 pound prize 2...</td>\n",
       "    </tr>\n",
       "    <tr>\n",
       "      <th>5564</th>\n",
       "      <td>ham</td>\n",
       "      <td>Will ü b going to esplanade fr home?</td>\n",
       "      <td>ü b going esplanade fr home</td>\n",
       "    </tr>\n",
       "    <tr>\n",
       "      <th>5565</th>\n",
       "      <td>ham</td>\n",
       "      <td>Pity, * was in mood for that. So...any other s...</td>\n",
       "      <td>pity mood soany suggestion</td>\n",
       "    </tr>\n",
       "    <tr>\n",
       "      <th>5566</th>\n",
       "      <td>ham</td>\n",
       "      <td>The guy did some bitching but I acted like i'd...</td>\n",
       "      <td>guy bitching acted like id interested buying s...</td>\n",
       "    </tr>\n",
       "    <tr>\n",
       "      <th>5567</th>\n",
       "      <td>ham</td>\n",
       "      <td>Rofl. Its true to its name</td>\n",
       "      <td>rofl true name</td>\n",
       "    </tr>\n",
       "  </tbody>\n",
       "</table>\n",
       "</div>"
      ],
      "text/plain": [
       "     labels                                            content  \\\n",
       "5563   spam  This is the 2nd time we have tried 2 contact u...   \n",
       "5564    ham               Will ü b going to esplanade fr home?   \n",
       "5565    ham  Pity, * was in mood for that. So...any other s...   \n",
       "5566    ham  The guy did some bitching but I acted like i'd...   \n",
       "5567    ham                         Rofl. Its true to its name   \n",
       "\n",
       "                                        cleaned_content  \n",
       "5563  2nd time tried 2 contact u u 750 pound prize 2...  \n",
       "5564                        ü b going esplanade fr home  \n",
       "5565                         pity mood soany suggestion  \n",
       "5566  guy bitching acted like id interested buying s...  \n",
       "5567                                     rofl true name  "
      ]
     },
     "execution_count": 12,
     "metadata": {},
     "output_type": "execute_result"
    }
   ],
   "source": [
    "dataset.tail()"
   ]
  },
  {
   "cell_type": "markdown",
   "id": "12977f05",
   "metadata": {},
   "source": [
    "### Feature Engineering"
   ]
  },
  {
   "cell_type": "code",
   "execution_count": 13,
   "id": "08911e65",
   "metadata": {},
   "outputs": [],
   "source": [
    "dataset['body_len'] = dataset['content'].apply(lambda x: len(x) - x.count(\" \"))"
   ]
  },
  {
   "cell_type": "code",
   "execution_count": 14,
   "id": "a09d8ef2",
   "metadata": {},
   "outputs": [
    {
     "data": {
      "text/html": [
       "<div>\n",
       "<style scoped>\n",
       "    .dataframe tbody tr th:only-of-type {\n",
       "        vertical-align: middle;\n",
       "    }\n",
       "\n",
       "    .dataframe tbody tr th {\n",
       "        vertical-align: top;\n",
       "    }\n",
       "\n",
       "    .dataframe thead th {\n",
       "        text-align: right;\n",
       "    }\n",
       "</style>\n",
       "<table border=\"1\" class=\"dataframe\">\n",
       "  <thead>\n",
       "    <tr style=\"text-align: right;\">\n",
       "      <th></th>\n",
       "      <th>labels</th>\n",
       "      <th>content</th>\n",
       "      <th>cleaned_content</th>\n",
       "      <th>body_len</th>\n",
       "    </tr>\n",
       "  </thead>\n",
       "  <tbody>\n",
       "    <tr>\n",
       "      <th>0</th>\n",
       "      <td>ham</td>\n",
       "      <td>I've been searching for the right words to tha...</td>\n",
       "      <td>ive searching right word thank breather promis...</td>\n",
       "      <td>160</td>\n",
       "    </tr>\n",
       "    <tr>\n",
       "      <th>1</th>\n",
       "      <td>spam</td>\n",
       "      <td>Free entry in 2 a wkly comp to win FA Cup fina...</td>\n",
       "      <td>free entry 2 wkly p win fa cup final tkts 21st...</td>\n",
       "      <td>128</td>\n",
       "    </tr>\n",
       "    <tr>\n",
       "      <th>2</th>\n",
       "      <td>ham</td>\n",
       "      <td>Nah I don't think he goes to usf, he lives aro...</td>\n",
       "      <td>nah dont think go usf life around though</td>\n",
       "      <td>49</td>\n",
       "    </tr>\n",
       "    <tr>\n",
       "      <th>3</th>\n",
       "      <td>ham</td>\n",
       "      <td>Even my brother is not like to speak with me. ...</td>\n",
       "      <td>even brother like speak treat like aid patent</td>\n",
       "      <td>62</td>\n",
       "    </tr>\n",
       "    <tr>\n",
       "      <th>4</th>\n",
       "      <td>ham</td>\n",
       "      <td>I HAVE A DATE ON SUNDAY WITH WILL!!</td>\n",
       "      <td>date sunday</td>\n",
       "      <td>28</td>\n",
       "    </tr>\n",
       "  </tbody>\n",
       "</table>\n",
       "</div>"
      ],
      "text/plain": [
       "  labels                                            content  \\\n",
       "0    ham  I've been searching for the right words to tha...   \n",
       "1   spam  Free entry in 2 a wkly comp to win FA Cup fina...   \n",
       "2    ham  Nah I don't think he goes to usf, he lives aro...   \n",
       "3    ham  Even my brother is not like to speak with me. ...   \n",
       "4    ham                I HAVE A DATE ON SUNDAY WITH WILL!!   \n",
       "\n",
       "                                     cleaned_content  body_len  \n",
       "0  ive searching right word thank breather promis...       160  \n",
       "1  free entry 2 wkly p win fa cup final tkts 21st...       128  \n",
       "2           nah dont think go usf life around though        49  \n",
       "3      even brother like speak treat like aid patent        62  \n",
       "4                                        date sunday        28  "
      ]
     },
     "execution_count": 14,
     "metadata": {},
     "output_type": "execute_result"
    }
   ],
   "source": [
    "dataset.head()"
   ]
  },
  {
   "cell_type": "code",
   "execution_count": 15,
   "id": "285e1bca",
   "metadata": {},
   "outputs": [],
   "source": [
    "def count_punct(text):\n",
    "    count = sum([1 for char in text if char in string.punctuation])\n",
    "    return round(count/(len(text) - text.count(\" \")), 3)*100"
   ]
  },
  {
   "cell_type": "code",
   "execution_count": 16,
   "id": "1321e688",
   "metadata": {},
   "outputs": [],
   "source": [
    "dataset['punct%'] = dataset['content'].apply(lambda x: count_punct(x))"
   ]
  },
  {
   "cell_type": "code",
   "execution_count": 17,
   "id": "f272b994",
   "metadata": {},
   "outputs": [
    {
     "data": {
      "text/html": [
       "<div>\n",
       "<style scoped>\n",
       "    .dataframe tbody tr th:only-of-type {\n",
       "        vertical-align: middle;\n",
       "    }\n",
       "\n",
       "    .dataframe tbody tr th {\n",
       "        vertical-align: top;\n",
       "    }\n",
       "\n",
       "    .dataframe thead th {\n",
       "        text-align: right;\n",
       "    }\n",
       "</style>\n",
       "<table border=\"1\" class=\"dataframe\">\n",
       "  <thead>\n",
       "    <tr style=\"text-align: right;\">\n",
       "      <th></th>\n",
       "      <th>labels</th>\n",
       "      <th>content</th>\n",
       "      <th>cleaned_content</th>\n",
       "      <th>body_len</th>\n",
       "      <th>punct%</th>\n",
       "    </tr>\n",
       "  </thead>\n",
       "  <tbody>\n",
       "    <tr>\n",
       "      <th>0</th>\n",
       "      <td>ham</td>\n",
       "      <td>I've been searching for the right words to tha...</td>\n",
       "      <td>ive searching right word thank breather promis...</td>\n",
       "      <td>160</td>\n",
       "      <td>2.5</td>\n",
       "    </tr>\n",
       "    <tr>\n",
       "      <th>1</th>\n",
       "      <td>spam</td>\n",
       "      <td>Free entry in 2 a wkly comp to win FA Cup fina...</td>\n",
       "      <td>free entry 2 wkly p win fa cup final tkts 21st...</td>\n",
       "      <td>128</td>\n",
       "      <td>4.7</td>\n",
       "    </tr>\n",
       "    <tr>\n",
       "      <th>2</th>\n",
       "      <td>ham</td>\n",
       "      <td>Nah I don't think he goes to usf, he lives aro...</td>\n",
       "      <td>nah dont think go usf life around though</td>\n",
       "      <td>49</td>\n",
       "      <td>4.1</td>\n",
       "    </tr>\n",
       "    <tr>\n",
       "      <th>3</th>\n",
       "      <td>ham</td>\n",
       "      <td>Even my brother is not like to speak with me. ...</td>\n",
       "      <td>even brother like speak treat like aid patent</td>\n",
       "      <td>62</td>\n",
       "      <td>3.2</td>\n",
       "    </tr>\n",
       "    <tr>\n",
       "      <th>4</th>\n",
       "      <td>ham</td>\n",
       "      <td>I HAVE A DATE ON SUNDAY WITH WILL!!</td>\n",
       "      <td>date sunday</td>\n",
       "      <td>28</td>\n",
       "      <td>7.1</td>\n",
       "    </tr>\n",
       "  </tbody>\n",
       "</table>\n",
       "</div>"
      ],
      "text/plain": [
       "  labels                                            content  \\\n",
       "0    ham  I've been searching for the right words to tha...   \n",
       "1   spam  Free entry in 2 a wkly comp to win FA Cup fina...   \n",
       "2    ham  Nah I don't think he goes to usf, he lives aro...   \n",
       "3    ham  Even my brother is not like to speak with me. ...   \n",
       "4    ham                I HAVE A DATE ON SUNDAY WITH WILL!!   \n",
       "\n",
       "                                     cleaned_content  body_len  punct%  \n",
       "0  ive searching right word thank breather promis...       160     2.5  \n",
       "1  free entry 2 wkly p win fa cup final tkts 21st...       128     4.7  \n",
       "2           nah dont think go usf life around though        49     4.1  \n",
       "3      even brother like speak treat like aid patent        62     3.2  \n",
       "4                                        date sunday        28     7.1  "
      ]
     },
     "execution_count": 17,
     "metadata": {},
     "output_type": "execute_result"
    }
   ],
   "source": [
    "dataset.head()"
   ]
  },
  {
   "cell_type": "markdown",
   "id": "77ed96b6",
   "metadata": {},
   "source": [
    "### Ploting Feature Engineering"
   ]
  },
  {
   "cell_type": "code",
   "execution_count": 18,
   "id": "566ca3e8",
   "metadata": {},
   "outputs": [],
   "source": [
    "from matplotlib import pyplot\n",
    "import numpy as np\n",
    "%matplotlib inline"
   ]
  },
  {
   "cell_type": "code",
   "execution_count": 19,
   "id": "45057fb1",
   "metadata": {},
   "outputs": [
    {
     "data": {
      "image/png": "[encoded data removed]",
      "text/plain": [
       "<Figure size 432x288 with 1 Axes>"
      ]
     },
     "metadata": {
      "needs_background": "light"
     },
     "output_type": "display_data"
    }
   ],
   "source": [
    "bins = np.linspace(0, 200, 40)\n",
    "\n",
    "pyplot.title(\"Body Length Distribution\")\n",
    "pyplot.hist(dataset[dataset['labels']=='spam']['body_len'], bins, alpha=0.5, label='spam')\n",
    "pyplot.hist(dataset[dataset['labels']=='ham']['body_len'], bins, alpha=0.5,  label='ham')\n",
    "pyplot.legend(loc='upper left')\n",
    "pyplot.show()"
   ]
  },
  {
   "cell_type": "code",
   "execution_count": 20,
   "id": "79de5964",
   "metadata": {},
   "outputs": [
    {
     "data": {
      "image/png": "[encoded data removed]",
      "text/plain": [
       "<Figure size 432x288 with 1 Axes>"
      ]
     },
     "metadata": {
      "needs_background": "light"
     },
     "output_type": "display_data"
    }
   ],
   "source": [
    "bins = np.linspace(0, 50, 40)\n",
    "\n",
    "pyplot.hist(dataset[dataset['labels']=='spam']['punct%'], bins, alpha=0.5, label='spam')\n",
    "pyplot.hist(dataset[dataset['labels']=='ham']['punct%'], bins, alpha=0.5,  label='ham')\n",
    "pyplot.title(\"Punctuation % Distribution\")\n",
    "pyplot.legend(loc='upper right')\n",
    "pyplot.show()"
   ]
  },
  {
   "cell_type": "code",
   "execution_count": 21,
   "id": "6fa55c02",
   "metadata": {},
   "outputs": [
    {
     "data": {
      "text/html": [
       "<div>\n",
       "<style scoped>\n",
       "    .dataframe tbody tr th:only-of-type {\n",
       "        vertical-align: middle;\n",
       "    }\n",
       "\n",
       "    .dataframe tbody tr th {\n",
       "        vertical-align: top;\n",
       "    }\n",
       "\n",
       "    .dataframe thead th {\n",
       "        text-align: right;\n",
       "    }\n",
       "</style>\n",
       "<table border=\"1\" class=\"dataframe\">\n",
       "  <thead>\n",
       "    <tr style=\"text-align: right;\">\n",
       "      <th></th>\n",
       "      <th>labels</th>\n",
       "      <th>content</th>\n",
       "      <th>cleaned_content</th>\n",
       "      <th>body_len</th>\n",
       "      <th>punct%</th>\n",
       "    </tr>\n",
       "  </thead>\n",
       "  <tbody>\n",
       "    <tr>\n",
       "      <th>0</th>\n",
       "      <td>ham</td>\n",
       "      <td>I've been searching for the right words to tha...</td>\n",
       "      <td>ive searching right word thank breather promis...</td>\n",
       "      <td>160</td>\n",
       "      <td>2.5</td>\n",
       "    </tr>\n",
       "    <tr>\n",
       "      <th>1</th>\n",
       "      <td>spam</td>\n",
       "      <td>Free entry in 2 a wkly comp to win FA Cup fina...</td>\n",
       "      <td>free entry 2 wkly p win fa cup final tkts 21st...</td>\n",
       "      <td>128</td>\n",
       "      <td>4.7</td>\n",
       "    </tr>\n",
       "    <tr>\n",
       "      <th>2</th>\n",
       "      <td>ham</td>\n",
       "      <td>Nah I don't think he goes to usf, he lives aro...</td>\n",
       "      <td>nah dont think go usf life around though</td>\n",
       "      <td>49</td>\n",
       "      <td>4.1</td>\n",
       "    </tr>\n",
       "    <tr>\n",
       "      <th>3</th>\n",
       "      <td>ham</td>\n",
       "      <td>Even my brother is not like to speak with me. ...</td>\n",
       "      <td>even brother like speak treat like aid patent</td>\n",
       "      <td>62</td>\n",
       "      <td>3.2</td>\n",
       "    </tr>\n",
       "    <tr>\n",
       "      <th>4</th>\n",
       "      <td>ham</td>\n",
       "      <td>I HAVE A DATE ON SUNDAY WITH WILL!!</td>\n",
       "      <td>date sunday</td>\n",
       "      <td>28</td>\n",
       "      <td>7.1</td>\n",
       "    </tr>\n",
       "  </tbody>\n",
       "</table>\n",
       "</div>"
      ],
      "text/plain": [
       "  labels                                            content  \\\n",
       "0    ham  I've been searching for the right words to tha...   \n",
       "1   spam  Free entry in 2 a wkly comp to win FA Cup fina...   \n",
       "2    ham  Nah I don't think he goes to usf, he lives aro...   \n",
       "3    ham  Even my brother is not like to speak with me. ...   \n",
       "4    ham                I HAVE A DATE ON SUNDAY WITH WILL!!   \n",
       "\n",
       "                                     cleaned_content  body_len  punct%  \n",
       "0  ive searching right word thank breather promis...       160     2.5  \n",
       "1  free entry 2 wkly p win fa cup final tkts 21st...       128     4.7  \n",
       "2           nah dont think go usf life around though        49     4.1  \n",
       "3      even brother like speak treat like aid patent        62     3.2  \n",
       "4                                        date sunday        28     7.1  "
      ]
     },
     "execution_count": 21,
     "metadata": {},
     "output_type": "execute_result"
    }
   ],
   "source": [
    "dataset.head()"
   ]
  },
  {
   "cell_type": "markdown",
   "id": "2228bc10",
   "metadata": {},
   "source": [
    "### Vectorization"
   ]
  },
  {
   "cell_type": "code",
   "execution_count": 22,
   "id": "0bdaccf4",
   "metadata": {},
   "outputs": [],
   "source": [
    "from sklearn.feature_extraction.text import TfidfVectorizer"
   ]
  },
  {
   "cell_type": "code",
   "execution_count": 23,
   "id": "e5f34106",
   "metadata": {},
   "outputs": [],
   "source": [
    "# tfidf_vect = TfidfVectorizer(analyzer=clean_text)\n",
    "# X_tfidf = tfidf_vect.fit_transform(dataset['cleaned_content'])\n",
    "# X_tfidf_df = pd.DataFrame(X_tfidf.toarray())\n",
    "\n",
    "# X_features = pd.concat([dataset['body_len'], dataset['punct%'], ], axis=1)\n",
    "# X_features.head()"
   ]
  },
  {
   "cell_type": "markdown",
   "id": "639536d0",
   "metadata": {},
   "source": [
    "Building Model: Random Forest with houldout testset"
   ]
  },
  {
   "cell_type": "code",
   "execution_count": 24,
   "id": "9c663739",
   "metadata": {},
   "outputs": [],
   "source": [
    "from sklearn.metrics import precision_recall_fscore_support as score\n",
    "from sklearn.model_selection import train_test_split"
   ]
  },
  {
   "cell_type": "code",
   "execution_count": 25,
   "id": "062d5c99",
   "metadata": {},
   "outputs": [],
   "source": [
    "X_train, X_test, y_train, y_test = train_test_split(dataset[['cleaned_content']], dataset['labels'], test_size=0.2)"
   ]
  },
  {
   "cell_type": "code",
   "execution_count": 26,
   "id": "1c9b8d2a",
   "metadata": {},
   "outputs": [
    {
     "data": {
      "text/html": [
       "<div>\n",
       "<style scoped>\n",
       "    .dataframe tbody tr th:only-of-type {\n",
       "        vertical-align: middle;\n",
       "    }\n",
       "\n",
       "    .dataframe tbody tr th {\n",
       "        vertical-align: top;\n",
       "    }\n",
       "\n",
       "    .dataframe thead th {\n",
       "        text-align: right;\n",
       "    }\n",
       "</style>\n",
       "<table border=\"1\" class=\"dataframe\">\n",
       "  <thead>\n",
       "    <tr style=\"text-align: right;\">\n",
       "      <th></th>\n",
       "      <th>cleaned_content</th>\n",
       "    </tr>\n",
       "  </thead>\n",
       "  <tbody>\n",
       "    <tr>\n",
       "      <th>2471</th>\n",
       "      <td>princess like make love ltgt time per night ho...</td>\n",
       "    </tr>\n",
       "    <tr>\n",
       "      <th>2293</th>\n",
       "      <td>forwarded 21870000hi mailbox messaging sm aler...</td>\n",
       "    </tr>\n",
       "    <tr>\n",
       "      <th>3409</th>\n",
       "      <td>didnt search online let know</td>\n",
       "    </tr>\n",
       "    <tr>\n",
       "      <th>316</th>\n",
       "      <td>coffee cake guess</td>\n",
       "    </tr>\n",
       "    <tr>\n",
       "      <th>3231</th>\n",
       "      <td>yup ü</td>\n",
       "    </tr>\n",
       "    <tr>\n",
       "      <th>...</th>\n",
       "      <td>...</td>\n",
       "    </tr>\n",
       "    <tr>\n",
       "      <th>3078</th>\n",
       "      <td>great trip india bring light everyone project ...</td>\n",
       "    </tr>\n",
       "    <tr>\n",
       "      <th>3801</th>\n",
       "      <td>dude fakemy frnds got money thts im reffering ...</td>\n",
       "    </tr>\n",
       "    <tr>\n",
       "      <th>866</th>\n",
       "      <td>u want xmas 100 free text message new video ph...</td>\n",
       "    </tr>\n",
       "    <tr>\n",
       "      <th>1306</th>\n",
       "      <td>ok careful dont text drive</td>\n",
       "    </tr>\n",
       "    <tr>\n",
       "      <th>4286</th>\n",
       "      <td>okay good problem thanx</td>\n",
       "    </tr>\n",
       "  </tbody>\n",
       "</table>\n",
       "<p>4454 rows × 1 columns</p>\n",
       "</div>"
      ],
      "text/plain": [
       "                                        cleaned_content\n",
       "2471  princess like make love ltgt time per night ho...\n",
       "2293  forwarded 21870000hi mailbox messaging sm aler...\n",
       "3409                       didnt search online let know\n",
       "316                                   coffee cake guess\n",
       "3231                                             yup ü \n",
       "...                                                 ...\n",
       "3078  great trip india bring light everyone project ...\n",
       "3801  dude fakemy frnds got money thts im reffering ...\n",
       "866   u want xmas 100 free text message new video ph...\n",
       "1306                        ok careful dont text drive \n",
       "4286                            okay good problem thanx\n",
       "\n",
       "[4454 rows x 1 columns]"
      ]
     },
     "execution_count": 26,
     "metadata": {},
     "output_type": "execute_result"
    }
   ],
   "source": [
    "X_train"
   ]
  },
  {
   "cell_type": "code",
   "execution_count": 27,
   "id": "5b1b6f4f",
   "metadata": {
    "scrolled": true
   },
   "outputs": [
    {
     "name": "stderr",
     "output_type": "stream",
     "text": [
      "C:\\Users\\admin\\AppData\\Local\\Temp\\ipykernel_8844\\3193103632.py:15: DeprecationWarning: 'emoji.get_emoji_regexp()' is deprecated and will be removed in version 2.0.0. If you want to remove emoji from a string, consider the method emoji.replace_emoji(str, replace='').\n",
      "To hide this warning, pin/downgrade the package to 'emoji~=1.6.3'\n",
      "  emoji.get_emoji_regexp().sub(u'', text)\n"
     ]
    }
   ],
   "source": [
    "tfidf_vect = TfidfVectorizer(analyzer=clean_text)\n",
    "\n",
    "X_tfidf_fit = tfidf_vect.fit(X_train['cleaned_content'])\n",
    "\n",
    "tfidf_train = X_tfidf_fit.fit_transform(X_train['cleaned_content'])\n",
    "\n",
    "tfidf_test = X_tfidf_fit.transform(X_test['cleaned_content'])"
   ]
  },
  {
   "cell_type": "code",
   "execution_count": 28,
   "id": "cec50774",
   "metadata": {
    "scrolled": true
   },
   "outputs": [],
   "source": [
    "X_test_vect = pd.DataFrame(tfidf_test.toarray())\n",
    "\n",
    "X_train_vect = pd.DataFrame(tfidf_train.toarray())"
   ]
  },
  {
   "cell_type": "code",
   "execution_count": 29,
   "id": "308e537a",
   "metadata": {},
   "outputs": [
    {
     "data": {
      "text/html": [
       "<div>\n",
       "<style scoped>\n",
       "    .dataframe tbody tr th:only-of-type {\n",
       "        vertical-align: middle;\n",
       "    }\n",
       "\n",
       "    .dataframe tbody tr th {\n",
       "        vertical-align: top;\n",
       "    }\n",
       "\n",
       "    .dataframe thead th {\n",
       "        text-align: right;\n",
       "    }\n",
       "</style>\n",
       "<table border=\"1\" class=\"dataframe\">\n",
       "  <thead>\n",
       "    <tr style=\"text-align: right;\">\n",
       "      <th></th>\n",
       "      <th>0</th>\n",
       "      <th>1</th>\n",
       "      <th>2</th>\n",
       "      <th>3</th>\n",
       "      <th>4</th>\n",
       "      <th>5</th>\n",
       "      <th>6</th>\n",
       "      <th>7</th>\n",
       "      <th>8</th>\n",
       "      <th>9</th>\n",
       "      <th>...</th>\n",
       "      <th>34</th>\n",
       "      <th>35</th>\n",
       "      <th>36</th>\n",
       "      <th>37</th>\n",
       "      <th>38</th>\n",
       "      <th>39</th>\n",
       "      <th>40</th>\n",
       "      <th>41</th>\n",
       "      <th>42</th>\n",
       "      <th>43</th>\n",
       "    </tr>\n",
       "  </thead>\n",
       "  <tbody>\n",
       "    <tr>\n",
       "      <th>0</th>\n",
       "      <td>0.491022</td>\n",
       "      <td>0.00000</td>\n",
       "      <td>0.000000</td>\n",
       "      <td>0.000000</td>\n",
       "      <td>0.0</td>\n",
       "      <td>0.000000</td>\n",
       "      <td>0.000000</td>\n",
       "      <td>0.000000</td>\n",
       "      <td>0.000000</td>\n",
       "      <td>0.000000</td>\n",
       "      <td>...</td>\n",
       "      <td>0.000000</td>\n",
       "      <td>0.000000</td>\n",
       "      <td>0.0</td>\n",
       "      <td>0.0</td>\n",
       "      <td>0.0</td>\n",
       "      <td>0.0</td>\n",
       "      <td>0.0</td>\n",
       "      <td>0.00000</td>\n",
       "      <td>0.0</td>\n",
       "      <td>0.0</td>\n",
       "    </tr>\n",
       "    <tr>\n",
       "      <th>1</th>\n",
       "      <td>0.387088</td>\n",
       "      <td>0.43981</td>\n",
       "      <td>0.218247</td>\n",
       "      <td>0.269844</td>\n",
       "      <td>0.0</td>\n",
       "      <td>0.148444</td>\n",
       "      <td>0.155882</td>\n",
       "      <td>0.081977</td>\n",
       "      <td>0.084048</td>\n",
       "      <td>0.074537</td>\n",
       "      <td>...</td>\n",
       "      <td>0.065463</td>\n",
       "      <td>0.000000</td>\n",
       "      <td>0.0</td>\n",
       "      <td>0.0</td>\n",
       "      <td>0.0</td>\n",
       "      <td>0.0</td>\n",
       "      <td>0.0</td>\n",
       "      <td>0.00000</td>\n",
       "      <td>0.0</td>\n",
       "      <td>0.0</td>\n",
       "    </tr>\n",
       "    <tr>\n",
       "      <th>2</th>\n",
       "      <td>0.422914</td>\n",
       "      <td>0.00000</td>\n",
       "      <td>0.000000</td>\n",
       "      <td>0.000000</td>\n",
       "      <td>0.0</td>\n",
       "      <td>0.000000</td>\n",
       "      <td>0.000000</td>\n",
       "      <td>0.000000</td>\n",
       "      <td>0.000000</td>\n",
       "      <td>0.000000</td>\n",
       "      <td>...</td>\n",
       "      <td>0.000000</td>\n",
       "      <td>0.000000</td>\n",
       "      <td>0.0</td>\n",
       "      <td>0.0</td>\n",
       "      <td>0.0</td>\n",
       "      <td>0.0</td>\n",
       "      <td>0.0</td>\n",
       "      <td>0.00000</td>\n",
       "      <td>0.0</td>\n",
       "      <td>0.0</td>\n",
       "    </tr>\n",
       "    <tr>\n",
       "      <th>3</th>\n",
       "      <td>0.256632</td>\n",
       "      <td>0.00000</td>\n",
       "      <td>0.000000</td>\n",
       "      <td>0.000000</td>\n",
       "      <td>0.0</td>\n",
       "      <td>0.000000</td>\n",
       "      <td>0.000000</td>\n",
       "      <td>0.000000</td>\n",
       "      <td>0.000000</td>\n",
       "      <td>0.000000</td>\n",
       "      <td>...</td>\n",
       "      <td>0.000000</td>\n",
       "      <td>0.000000</td>\n",
       "      <td>0.0</td>\n",
       "      <td>0.0</td>\n",
       "      <td>0.0</td>\n",
       "      <td>0.0</td>\n",
       "      <td>0.0</td>\n",
       "      <td>0.00000</td>\n",
       "      <td>0.0</td>\n",
       "      <td>0.0</td>\n",
       "    </tr>\n",
       "    <tr>\n",
       "      <th>4</th>\n",
       "      <td>0.186468</td>\n",
       "      <td>0.00000</td>\n",
       "      <td>0.000000</td>\n",
       "      <td>0.000000</td>\n",
       "      <td>0.0</td>\n",
       "      <td>0.000000</td>\n",
       "      <td>0.000000</td>\n",
       "      <td>0.000000</td>\n",
       "      <td>0.000000</td>\n",
       "      <td>0.000000</td>\n",
       "      <td>...</td>\n",
       "      <td>0.000000</td>\n",
       "      <td>0.278669</td>\n",
       "      <td>0.0</td>\n",
       "      <td>0.0</td>\n",
       "      <td>0.0</td>\n",
       "      <td>0.0</td>\n",
       "      <td>0.0</td>\n",
       "      <td>0.85354</td>\n",
       "      <td>0.0</td>\n",
       "      <td>0.0</td>\n",
       "    </tr>\n",
       "  </tbody>\n",
       "</table>\n",
       "<p>5 rows × 44 columns</p>\n",
       "</div>"
      ],
      "text/plain": [
       "         0        1         2         3    4         5         6         7   \\\n",
       "0  0.491022  0.00000  0.000000  0.000000  0.0  0.000000  0.000000  0.000000   \n",
       "1  0.387088  0.43981  0.218247  0.269844  0.0  0.148444  0.155882  0.081977   \n",
       "2  0.422914  0.00000  0.000000  0.000000  0.0  0.000000  0.000000  0.000000   \n",
       "3  0.256632  0.00000  0.000000  0.000000  0.0  0.000000  0.000000  0.000000   \n",
       "4  0.186468  0.00000  0.000000  0.000000  0.0  0.000000  0.000000  0.000000   \n",
       "\n",
       "         8         9   ...        34        35   36   37   38   39   40  \\\n",
       "0  0.000000  0.000000  ...  0.000000  0.000000  0.0  0.0  0.0  0.0  0.0   \n",
       "1  0.084048  0.074537  ...  0.065463  0.000000  0.0  0.0  0.0  0.0  0.0   \n",
       "2  0.000000  0.000000  ...  0.000000  0.000000  0.0  0.0  0.0  0.0  0.0   \n",
       "3  0.000000  0.000000  ...  0.000000  0.000000  0.0  0.0  0.0  0.0  0.0   \n",
       "4  0.000000  0.000000  ...  0.000000  0.278669  0.0  0.0  0.0  0.0  0.0   \n",
       "\n",
       "        41   42   43  \n",
       "0  0.00000  0.0  0.0  \n",
       "1  0.00000  0.0  0.0  \n",
       "2  0.00000  0.0  0.0  \n",
       "3  0.00000  0.0  0.0  \n",
       "4  0.85354  0.0  0.0  \n",
       "\n",
       "[5 rows x 44 columns]"
      ]
     },
     "execution_count": 29,
     "metadata": {},
     "output_type": "execute_result"
    }
   ],
   "source": [
    "X_train_vect.head()"
   ]
  },
  {
   "cell_type": "markdown",
   "id": "6a08a0ba",
   "metadata": {},
   "source": [
    "### Creating RandomForest Model"
   ]
  },
  {
   "cell_type": "code",
   "execution_count": 30,
   "id": "29dbdc8f",
   "metadata": {
    "scrolled": false
   },
   "outputs": [],
   "source": [
    "from sklearn.ensemble import RandomForestClassifier\n",
    "\n",
    "rf = RandomForestClassifier(n_estimators=150, max_depth=None, n_jobs=-1)\n",
    "rf_model = rf.fit(X_train_vect, y_train)"
   ]
  },
  {
   "cell_type": "code",
   "execution_count": 31,
   "id": "5e96c04e",
   "metadata": {},
   "outputs": [],
   "source": [
    "y_pred = rf_model.predict(X_test_vect)"
   ]
  },
  {
   "cell_type": "code",
   "execution_count": 32,
   "id": "e6efadd1",
   "metadata": {},
   "outputs": [],
   "source": [
    "precision, recall, fscore, support = score(y_test, y_pred, pos_label='spam', average='binary')"
   ]
  },
  {
   "cell_type": "markdown",
   "id": "66a4750b",
   "metadata": {},
   "source": [
    "### Evalution of Model"
   ]
  },
  {
   "cell_type": "code",
   "execution_count": 33,
   "id": "dc89750f",
   "metadata": {},
   "outputs": [
    {
     "name": "stdout",
     "output_type": "stream",
     "text": [
      "Precision: 0.972 / Recall: 0.915 / Accuracy: 0.985\n"
     ]
    }
   ],
   "source": [
    "print('Precision: {} / Recall: {} / Accuracy: {}'.format(round(precision, 3),\n",
    "                                                        round(recall, 3),\n",
    "                                                        round((y_pred==y_test).sum() / len(y_pred),3)))"
   ]
  },
  {
   "cell_type": "markdown",
   "id": "3a5f8f30",
   "metadata": {},
   "source": [
    "### Phase 2: tweet classification using Randomforest Model"
   ]
  },
  {
   "cell_type": "code",
   "execution_count": 34,
   "id": "ef5f0d70",
   "metadata": {},
   "outputs": [],
   "source": [
    "import tweepy\n",
    "from tweepy import OAuthHandler\n",
    "from textblob import TextBlob\n",
    "import os"
   ]
  },
  {
   "cell_type": "code",
   "execution_count": 35,
   "id": "f2afad3f",
   "metadata": {},
   "outputs": [],
   "source": [
    "# Twitter API Cred\n",
    "\n",
    "consumer_key = 'Qjzvr3RaFDhgasMN0yWxrLV8a'\n",
    "consumer_secret = 'wCQhmhk7h6j3XEU3S8MaAdXjWHMgn42QCS9PaEXwyGfokr1Xv6'\n",
    "access_token = '1544391073472151552-A8kxtQBAOy7iJDyzcM2eeBNQFHBp47'\n",
    "access_token_secret = 'QjIAZUiJEm3fNUzl1W8CCadzqCStYafSQ4j5RzvKlXCoQ'"
   ]
  },
  {
   "cell_type": "code",
   "execution_count": 36,
   "id": "8f64f43a",
   "metadata": {},
   "outputs": [],
   "source": [
    "# attempt authentication\n",
    "try:\n",
    "    auth = OAuthHandler(consumer_key, consumer_secret)\n",
    "    auth.set_access_token(access_token, access_token_secret)\n",
    "    api = tweepy.API(auth)\n",
    "except:\n",
    "    print(\"Error: Authentication Failed\")"
   ]
  },
  {
   "cell_type": "code",
   "execution_count": 37,
   "id": "85c74ae2",
   "metadata": {},
   "outputs": [],
   "source": [
    "search_words = \"ukrainerussiawar,ukraine,russia-filter:retweets\" "
   ]
  },
  {
   "cell_type": "code",
   "execution_count": 38,
   "id": "f9fe4628",
   "metadata": {},
   "outputs": [],
   "source": [
    "#Collect tweets\n",
    "tweets = tweepy.Cursor(api.search_tweets,\n",
    "              q=search_words,\n",
    "              lang=\"en\").items(900)"
   ]
  },
  {
   "cell_type": "code",
   "execution_count": 39,
   "id": "04a7d168",
   "metadata": {},
   "outputs": [
    {
     "data": {
      "text/plain": [
       "<tweepy.cursor.ItemIterator at 0x23838ededc0>"
      ]
     },
     "execution_count": 39,
     "metadata": {},
     "output_type": "execute_result"
    }
   ],
   "source": [
    "tweets"
   ]
  },
  {
   "cell_type": "code",
   "execution_count": 40,
   "id": "f6cf94d6",
   "metadata": {},
   "outputs": [],
   "source": [
    "# creting a list of tweets with only the varibles required for analysis\n",
    "tweets = [[tweet.text] for tweet in tweets]"
   ]
  },
  {
   "cell_type": "code",
   "execution_count": 41,
   "id": "c2d21c83",
   "metadata": {},
   "outputs": [
    {
     "data": {
      "text/html": [
       "<div>\n",
       "<style scoped>\n",
       "    .dataframe tbody tr th:only-of-type {\n",
       "        vertical-align: middle;\n",
       "    }\n",
       "\n",
       "    .dataframe tbody tr th {\n",
       "        vertical-align: top;\n",
       "    }\n",
       "\n",
       "    .dataframe thead th {\n",
       "        text-align: right;\n",
       "    }\n",
       "</style>\n",
       "<table border=\"1\" class=\"dataframe\">\n",
       "  <thead>\n",
       "    <tr style=\"text-align: right;\">\n",
       "      <th></th>\n",
       "      <th>text</th>\n",
       "    </tr>\n",
       "  </thead>\n",
       "  <tbody>\n",
       "    <tr>\n",
       "      <th>0</th>\n",
       "      <td>🇲🇩 Moldova fears war with Russia.\\n\\nThis is a...</td>\n",
       "    </tr>\n",
       "    <tr>\n",
       "      <th>1</th>\n",
       "      <td>BRICS is real and gonna be an issue for us, I ...</td>\n",
       "    </tr>\n",
       "    <tr>\n",
       "      <th>2</th>\n",
       "      <td>13. #Russian  Navy's ships struck the territor...</td>\n",
       "    </tr>\n",
       "    <tr>\n",
       "      <th>3</th>\n",
       "      <td>“#Russia, within the framework of the grain de...</td>\n",
       "    </tr>\n",
       "    <tr>\n",
       "      <th>4</th>\n",
       "      <td>The Illuminati playbook can be found in the Pr...</td>\n",
       "    </tr>\n",
       "  </tbody>\n",
       "</table>\n",
       "</div>"
      ],
      "text/plain": [
       "                                                text\n",
       "0  🇲🇩 Moldova fears war with Russia.\\n\\nThis is a...\n",
       "1  BRICS is real and gonna be an issue for us, I ...\n",
       "2  13. #Russian  Navy's ships struck the territor...\n",
       "3  “#Russia, within the framework of the grain de...\n",
       "4  The Illuminati playbook can be found in the Pr..."
      ]
     },
     "execution_count": 41,
     "metadata": {},
     "output_type": "execute_result"
    }
   ],
   "source": [
    "# converting tweet text to dataframe\n",
    "tweet_df = pd.DataFrame(data=tweets, \n",
    "                    columns=['text'])\n",
    "tweet_df.head()"
   ]
  },
  {
   "cell_type": "code",
   "execution_count": 42,
   "id": "f64b1b8f",
   "metadata": {},
   "outputs": [
    {
     "name": "stderr",
     "output_type": "stream",
     "text": [
      "C:\\Users\\admin\\AppData\\Local\\Temp\\ipykernel_8844\\3193103632.py:15: DeprecationWarning: 'emoji.get_emoji_regexp()' is deprecated and will be removed in version 2.0.0. If you want to remove emoji from a string, consider the method emoji.replace_emoji(str, replace='').\n",
      "To hide this warning, pin/downgrade the package to 'emoji~=1.6.3'\n",
      "  emoji.get_emoji_regexp().sub(u'', text)\n"
     ]
    }
   ],
   "source": [
    "tweet_df['cleaned_text'] = tweet_df['text'].apply(lambda x: clean_text(x))"
   ]
  },
  {
   "cell_type": "code",
   "execution_count": 43,
   "id": "84c53d2e",
   "metadata": {
    "scrolled": true
   },
   "outputs": [
    {
     "data": {
      "text/html": [
       "<div>\n",
       "<style scoped>\n",
       "    .dataframe tbody tr th:only-of-type {\n",
       "        vertical-align: middle;\n",
       "    }\n",
       "\n",
       "    .dataframe tbody tr th {\n",
       "        vertical-align: top;\n",
       "    }\n",
       "\n",
       "    .dataframe thead th {\n",
       "        text-align: right;\n",
       "    }\n",
       "</style>\n",
       "<table border=\"1\" class=\"dataframe\">\n",
       "  <thead>\n",
       "    <tr style=\"text-align: right;\">\n",
       "      <th></th>\n",
       "      <th>text</th>\n",
       "      <th>cleaned_text</th>\n",
       "    </tr>\n",
       "  </thead>\n",
       "  <tbody>\n",
       "    <tr>\n",
       "      <th>0</th>\n",
       "      <td>🇲🇩 Moldova fears war with Russia.\\n\\nThis is a...</td>\n",
       "      <td>moldova fear war russiathis risk still hypoth...</td>\n",
       "    </tr>\n",
       "    <tr>\n",
       "      <th>1</th>\n",
       "      <td>BRICS is real and gonna be an issue for us, I ...</td>\n",
       "      <td>brics real gonna issue u guess u imperialism g...</td>\n",
       "    </tr>\n",
       "    <tr>\n",
       "      <th>2</th>\n",
       "      <td>13. #Russian  Navy's ships struck the territor...</td>\n",
       "      <td>13 russian navy ship struck territory odessa p...</td>\n",
       "    </tr>\n",
       "    <tr>\n",
       "      <th>3</th>\n",
       "      <td>“#Russia, within the framework of the grain de...</td>\n",
       "      <td>russia within framework grain deal assume obl...</td>\n",
       "    </tr>\n",
       "    <tr>\n",
       "      <th>4</th>\n",
       "      <td>The Illuminati playbook can be found in the Pr...</td>\n",
       "      <td>illuminati playbook found protocol wise men zi...</td>\n",
       "    </tr>\n",
       "  </tbody>\n",
       "</table>\n",
       "</div>"
      ],
      "text/plain": [
       "                                                text  \\\n",
       "0  🇲🇩 Moldova fears war with Russia.\\n\\nThis is a...   \n",
       "1  BRICS is real and gonna be an issue for us, I ...   \n",
       "2  13. #Russian  Navy's ships struck the territor...   \n",
       "3  “#Russia, within the framework of the grain de...   \n",
       "4  The Illuminati playbook can be found in the Pr...   \n",
       "\n",
       "                                        cleaned_text  \n",
       "0   moldova fear war russiathis risk still hypoth...  \n",
       "1  brics real gonna issue u guess u imperialism g...  \n",
       "2  13 russian navy ship struck territory odessa p...  \n",
       "3   russia within framework grain deal assume obl...  \n",
       "4  illuminati playbook found protocol wise men zi...  "
      ]
     },
     "execution_count": 43,
     "metadata": {},
     "output_type": "execute_result"
    }
   ],
   "source": [
    "tweet_df.head()"
   ]
  },
  {
   "cell_type": "code",
   "execution_count": 44,
   "id": "3b0d6718",
   "metadata": {},
   "outputs": [
    {
     "name": "stdout",
     "output_type": "stream",
     "text": [
      "<class 'pandas.core.frame.DataFrame'>\n",
      "RangeIndex: 900 entries, 0 to 899\n",
      "Data columns (total 2 columns):\n",
      " #   Column        Non-Null Count  Dtype \n",
      "---  ------        --------------  ----- \n",
      " 0   text          900 non-null    object\n",
      " 1   cleaned_text  900 non-null    object\n",
      "dtypes: object(2)\n",
      "memory usage: 14.2+ KB\n"
     ]
    }
   ],
   "source": [
    "tweet_df.info()"
   ]
  },
  {
   "cell_type": "markdown",
   "id": "42bf22e8",
   "metadata": {},
   "source": [
    "## Phase 2.1: Overall Tweet Analysis"
   ]
  },
  {
   "cell_type": "markdown",
   "id": "6935b1bb",
   "metadata": {},
   "source": [
    "### Polarity and Sentiment Analysis"
   ]
  },
  {
   "cell_type": "code",
   "execution_count": 45,
   "id": "8d677078",
   "metadata": {},
   "outputs": [],
   "source": [
    "from textblob import TextBlob\n",
    "from wordcloud import WordCloud\n",
    "import matplotlib.pyplot as plt"
   ]
  },
  {
   "cell_type": "code",
   "execution_count": 46,
   "id": "12d880d2",
   "metadata": {},
   "outputs": [],
   "source": [
    "def getSubjectivity(text):\n",
    "    return TextBlob( str(text)).sentiment.subjectivity\n",
    "\n",
    "def getPolarity(text):\n",
    "    return TextBlob( str(text)).sentiment.polarity"
   ]
  },
  {
   "cell_type": "code",
   "execution_count": 47,
   "id": "302784ca",
   "metadata": {},
   "outputs": [
    {
     "data": {
      "text/html": [
       "<div>\n",
       "<style scoped>\n",
       "    .dataframe tbody tr th:only-of-type {\n",
       "        vertical-align: middle;\n",
       "    }\n",
       "\n",
       "    .dataframe tbody tr th {\n",
       "        vertical-align: top;\n",
       "    }\n",
       "\n",
       "    .dataframe thead th {\n",
       "        text-align: right;\n",
       "    }\n",
       "</style>\n",
       "<table border=\"1\" class=\"dataframe\">\n",
       "  <thead>\n",
       "    <tr style=\"text-align: right;\">\n",
       "      <th></th>\n",
       "      <th>text</th>\n",
       "      <th>cleaned_text</th>\n",
       "      <th>Subjectivity</th>\n",
       "      <th>Polarity</th>\n",
       "    </tr>\n",
       "  </thead>\n",
       "  <tbody>\n",
       "    <tr>\n",
       "      <th>0</th>\n",
       "      <td>🇲🇩 Moldova fears war with Russia.\\n\\nThis is a...</td>\n",
       "      <td>moldova fear war russiathis risk still hypoth...</td>\n",
       "      <td>0.000000</td>\n",
       "      <td>0.000000</td>\n",
       "    </tr>\n",
       "    <tr>\n",
       "      <th>1</th>\n",
       "      <td>BRICS is real and gonna be an issue for us, I ...</td>\n",
       "      <td>brics real gonna issue u guess u imperialism g...</td>\n",
       "      <td>0.433333</td>\n",
       "      <td>0.066667</td>\n",
       "    </tr>\n",
       "    <tr>\n",
       "      <th>2</th>\n",
       "      <td>13. #Russian  Navy's ships struck the territor...</td>\n",
       "      <td>13 russian navy ship struck territory odessa p...</td>\n",
       "      <td>0.000000</td>\n",
       "      <td>0.000000</td>\n",
       "    </tr>\n",
       "    <tr>\n",
       "      <th>3</th>\n",
       "      <td>“#Russia, within the framework of the grain de...</td>\n",
       "      <td>russia within framework grain deal assume obl...</td>\n",
       "      <td>0.000000</td>\n",
       "      <td>0.000000</td>\n",
       "    </tr>\n",
       "    <tr>\n",
       "      <th>4</th>\n",
       "      <td>The Illuminati playbook can be found in the Pr...</td>\n",
       "      <td>illuminati playbook found protocol wise men zi...</td>\n",
       "      <td>0.900000</td>\n",
       "      <td>0.700000</td>\n",
       "    </tr>\n",
       "  </tbody>\n",
       "</table>\n",
       "</div>"
      ],
      "text/plain": [
       "                                                text  \\\n",
       "0  🇲🇩 Moldova fears war with Russia.\\n\\nThis is a...   \n",
       "1  BRICS is real and gonna be an issue for us, I ...   \n",
       "2  13. #Russian  Navy's ships struck the territor...   \n",
       "3  “#Russia, within the framework of the grain de...   \n",
       "4  The Illuminati playbook can be found in the Pr...   \n",
       "\n",
       "                                        cleaned_text  Subjectivity  Polarity  \n",
       "0   moldova fear war russiathis risk still hypoth...      0.000000  0.000000  \n",
       "1  brics real gonna issue u guess u imperialism g...      0.433333  0.066667  \n",
       "2  13 russian navy ship struck territory odessa p...      0.000000  0.000000  \n",
       "3   russia within framework grain deal assume obl...      0.000000  0.000000  \n",
       "4  illuminati playbook found protocol wise men zi...      0.900000  0.700000  "
      ]
     },
     "execution_count": 47,
     "metadata": {},
     "output_type": "execute_result"
    }
   ],
   "source": [
    "tweet_df['Subjectivity'] = tweet_df['cleaned_text'].apply(getSubjectivity)\n",
    "tweet_df['Polarity'] = tweet_df['cleaned_text'].apply(getPolarity)\n",
    "tweet_df.head()"
   ]
  },
  {
   "cell_type": "code",
   "execution_count": 48,
   "id": "13bad9f7",
   "metadata": {},
   "outputs": [
    {
     "data": {
      "text/html": [
       "<div>\n",
       "<style scoped>\n",
       "    .dataframe tbody tr th:only-of-type {\n",
       "        vertical-align: middle;\n",
       "    }\n",
       "\n",
       "    .dataframe tbody tr th {\n",
       "        vertical-align: top;\n",
       "    }\n",
       "\n",
       "    .dataframe thead th {\n",
       "        text-align: right;\n",
       "    }\n",
       "</style>\n",
       "<table border=\"1\" class=\"dataframe\">\n",
       "  <thead>\n",
       "    <tr style=\"text-align: right;\">\n",
       "      <th></th>\n",
       "      <th>text</th>\n",
       "      <th>cleaned_text</th>\n",
       "      <th>Subjectivity</th>\n",
       "      <th>Polarity</th>\n",
       "      <th>Analysis_Polarity</th>\n",
       "      <th>Analysis_Subjectivity</th>\n",
       "    </tr>\n",
       "  </thead>\n",
       "  <tbody>\n",
       "    <tr>\n",
       "      <th>0</th>\n",
       "      <td>🇲🇩 Moldova fears war with Russia.\\n\\nThis is a...</td>\n",
       "      <td>moldova fear war russiathis risk still hypoth...</td>\n",
       "      <td>0.000000</td>\n",
       "      <td>0.000000</td>\n",
       "      <td>Neutral</td>\n",
       "      <td>Fact</td>\n",
       "    </tr>\n",
       "    <tr>\n",
       "      <th>1</th>\n",
       "      <td>BRICS is real and gonna be an issue for us, I ...</td>\n",
       "      <td>brics real gonna issue u guess u imperialism g...</td>\n",
       "      <td>0.433333</td>\n",
       "      <td>0.066667</td>\n",
       "      <td>Positive</td>\n",
       "      <td>Opinion</td>\n",
       "    </tr>\n",
       "    <tr>\n",
       "      <th>2</th>\n",
       "      <td>13. #Russian  Navy's ships struck the territor...</td>\n",
       "      <td>13 russian navy ship struck territory odessa p...</td>\n",
       "      <td>0.000000</td>\n",
       "      <td>0.000000</td>\n",
       "      <td>Neutral</td>\n",
       "      <td>Fact</td>\n",
       "    </tr>\n",
       "    <tr>\n",
       "      <th>3</th>\n",
       "      <td>“#Russia, within the framework of the grain de...</td>\n",
       "      <td>russia within framework grain deal assume obl...</td>\n",
       "      <td>0.000000</td>\n",
       "      <td>0.000000</td>\n",
       "      <td>Neutral</td>\n",
       "      <td>Fact</td>\n",
       "    </tr>\n",
       "    <tr>\n",
       "      <th>4</th>\n",
       "      <td>The Illuminati playbook can be found in the Pr...</td>\n",
       "      <td>illuminati playbook found protocol wise men zi...</td>\n",
       "      <td>0.900000</td>\n",
       "      <td>0.700000</td>\n",
       "      <td>Positive</td>\n",
       "      <td>Opinion</td>\n",
       "    </tr>\n",
       "  </tbody>\n",
       "</table>\n",
       "</div>"
      ],
      "text/plain": [
       "                                                text  \\\n",
       "0  🇲🇩 Moldova fears war with Russia.\\n\\nThis is a...   \n",
       "1  BRICS is real and gonna be an issue for us, I ...   \n",
       "2  13. #Russian  Navy's ships struck the territor...   \n",
       "3  “#Russia, within the framework of the grain de...   \n",
       "4  The Illuminati playbook can be found in the Pr...   \n",
       "\n",
       "                                        cleaned_text  Subjectivity  Polarity  \\\n",
       "0   moldova fear war russiathis risk still hypoth...      0.000000  0.000000   \n",
       "1  brics real gonna issue u guess u imperialism g...      0.433333  0.066667   \n",
       "2  13 russian navy ship struck territory odessa p...      0.000000  0.000000   \n",
       "3   russia within framework grain deal assume obl...      0.000000  0.000000   \n",
       "4  illuminati playbook found protocol wise men zi...      0.900000  0.700000   \n",
       "\n",
       "  Analysis_Polarity Analysis_Subjectivity  \n",
       "0           Neutral                  Fact  \n",
       "1          Positive               Opinion  \n",
       "2           Neutral                  Fact  \n",
       "3           Neutral                  Fact  \n",
       "4          Positive               Opinion  "
      ]
     },
     "execution_count": 48,
     "metadata": {},
     "output_type": "execute_result"
    }
   ],
   "source": [
    "# Create a function to compute negative (-1), neutral (0) and positive (+1) analysis\n",
    "def get_Polarity_Analysis(score):\n",
    "    if score < 0:\n",
    "      return 'Negative'\n",
    "    elif score == 0:\n",
    "      return 'Neutral'\n",
    "    else:\n",
    "      return 'Positive'\n",
    "def get_Subjectivity_Analysis(score):\n",
    "    if score >  0:\n",
    "      return 'Opinion'\n",
    "    else:\n",
    "      return 'Fact'\n",
    "\n",
    "tweet_df['Analysis_Polarity'] = tweet_df['Polarity'].apply(get_Polarity_Analysis)\n",
    "\n",
    "tweet_df['Analysis_Subjectivity'] = tweet_df['Subjectivity'].apply(get_Subjectivity_Analysis)\n",
    "\n",
    "# Show the dataframe\n",
    "tweet_df.head()\n"
   ]
  },
  {
   "cell_type": "code",
   "execution_count": 49,
   "id": "238b6f37",
   "metadata": {},
   "outputs": [],
   "source": [
    "import seaborn as sns"
   ]
  },
  {
   "cell_type": "code",
   "execution_count": 50,
   "id": "9fa584b6",
   "metadata": {},
   "outputs": [
    {
     "data": {
      "text/plain": [
       "Neutral     518\n",
       "Positive    225\n",
       "Negative    157\n",
       "Name: Analysis_Polarity, dtype: int64"
      ]
     },
     "execution_count": 50,
     "metadata": {},
     "output_type": "execute_result"
    }
   ],
   "source": [
    "# Show the value counts\n",
    "tweet_df['Analysis_Polarity'].value_counts()"
   ]
  },
  {
   "cell_type": "code",
   "execution_count": 51,
   "id": "f95a4499",
   "metadata": {},
   "outputs": [
    {
     "data": {
      "image/png": "[encoded data removed]",
      "text/plain": [
       "<Figure size 1080x720 with 1 Axes>"
      ]
     },
     "metadata": {
      "needs_background": "light"
     },
     "output_type": "display_data"
    }
   ],
   "source": [
    "# Plotting and visualizing the counts\n",
    "plt.figure(figsize=(15,10)) \n",
    "\n",
    "plt.title('Polarity Sentiment Analysis')\n",
    "plt.xlabel('Sentiment')\n",
    "plt.ylabel('Counts')\n",
    "tweet_df['Analysis_Polarity'].value_counts().plot(kind = 'bar')\n",
    "plt.show()"
   ]
  },
  {
   "cell_type": "code",
   "execution_count": 52,
   "id": "dff4a1e6",
   "metadata": {},
   "outputs": [
    {
     "data": {
      "image/png": "[encoded data removed]",
      "text/plain": [
       "<Figure size 1080x720 with 1 Axes>"
      ]
     },
     "metadata": {
      "needs_background": "light"
     },
     "output_type": "display_data"
    },
    {
     "data": {
      "text/plain": [
       "(None,)"
      ]
     },
     "execution_count": 52,
     "metadata": {},
     "output_type": "execute_result"
    }
   ],
   "source": [
    "plt.figure(figsize=(15,10)) \n",
    "\n",
    "# plt.style.use('seaborn-pastel')\n",
    "\n",
    "plt.scatter(tweet_df['Polarity'], tweet_df['Subjectivity'], c=tweet_df['Polarity'], s=100, cmap='RdYlGn') \n",
    "\n",
    "plt.xlim(-1.1, 1.1)\n",
    "plt.ylim(-0.1, 1.1) \n",
    "plt.title('Sentiment Analysis') \n",
    "plt.xlabel('Polarity') \n",
    "plt.ylabel('Subjectivity') \n",
    "plt.show(),"
   ]
  },
  {
   "cell_type": "markdown",
   "id": "98fbb2b1",
   "metadata": {},
   "source": [
    "### Subjective Analysis"
   ]
  },
  {
   "cell_type": "code",
   "execution_count": 53,
   "id": "26e68651",
   "metadata": {},
   "outputs": [
    {
     "data": {
      "image/png": "[encoded data removed]",
      "text/plain": [
       "<Figure size 1080x720 with 1 Axes>"
      ]
     },
     "metadata": {
      "needs_background": "light"
     },
     "output_type": "display_data"
    }
   ],
   "source": [
    "# Plotting and visualizing the counts\n",
    "plt.figure(figsize=(15,10)) \n",
    "\n",
    "plt.title('Subjectivity Sentiment Analysis')\n",
    "plt.xlabel('Sentiment')\n",
    "plt.ylabel('Counts')\n",
    "tweet_df['Analysis_Subjectivity'].value_counts().plot(kind = 'bar')\n",
    "plt.show()"
   ]
  },
  {
   "cell_type": "markdown",
   "id": "0977345d",
   "metadata": {},
   "source": [
    "We will be classifing tweets as SPAM or NOT and we'll again do Tweet Analysis on Each Category of Tweet. \n",
    "* tweet_ham_df\n",
    "* tweet_spam_df\n"
   ]
  },
  {
   "cell_type": "markdown",
   "id": "8bd393d3",
   "metadata": {},
   "source": [
    "### Vectorization of Tweet"
   ]
  },
  {
   "cell_type": "code",
   "execution_count": 54,
   "id": "53380f88",
   "metadata": {},
   "outputs": [
    {
     "name": "stderr",
     "output_type": "stream",
     "text": [
      "C:\\Users\\admin\\AppData\\Local\\Temp\\ipykernel_8844\\3193103632.py:15: DeprecationWarning: 'emoji.get_emoji_regexp()' is deprecated and will be removed in version 2.0.0. If you want to remove emoji from a string, consider the method emoji.replace_emoji(str, replace='').\n",
      "To hide this warning, pin/downgrade the package to 'emoji~=1.6.3'\n",
      "  emoji.get_emoji_regexp().sub(u'', text)\n"
     ]
    }
   ],
   "source": [
    "tfidf_test = X_tfidf_fit.transform(tweet_df['cleaned_text'])\n",
    "\n",
    "\n",
    "X_test_vect = pd.DataFrame(tfidf_test.toarray())"
   ]
  },
  {
   "cell_type": "markdown",
   "id": "2483b33e",
   "metadata": {},
   "source": [
    "### Vecotrization of tweet data"
   ]
  },
  {
   "cell_type": "code",
   "execution_count": 55,
   "id": "4eb0b0ba",
   "metadata": {},
   "outputs": [
    {
     "data": {
      "text/html": [
       "<div>\n",
       "<style scoped>\n",
       "    .dataframe tbody tr th:only-of-type {\n",
       "        vertical-align: middle;\n",
       "    }\n",
       "\n",
       "    .dataframe tbody tr th {\n",
       "        vertical-align: top;\n",
       "    }\n",
       "\n",
       "    .dataframe thead th {\n",
       "        text-align: right;\n",
       "    }\n",
       "</style>\n",
       "<table border=\"1\" class=\"dataframe\">\n",
       "  <thead>\n",
       "    <tr style=\"text-align: right;\">\n",
       "      <th></th>\n",
       "      <th>0</th>\n",
       "      <th>1</th>\n",
       "      <th>2</th>\n",
       "      <th>3</th>\n",
       "      <th>4</th>\n",
       "      <th>5</th>\n",
       "      <th>6</th>\n",
       "      <th>7</th>\n",
       "      <th>8</th>\n",
       "      <th>9</th>\n",
       "      <th>...</th>\n",
       "      <th>34</th>\n",
       "      <th>35</th>\n",
       "      <th>36</th>\n",
       "      <th>37</th>\n",
       "      <th>38</th>\n",
       "      <th>39</th>\n",
       "      <th>40</th>\n",
       "      <th>41</th>\n",
       "      <th>42</th>\n",
       "      <th>43</th>\n",
       "    </tr>\n",
       "  </thead>\n",
       "  <tbody>\n",
       "    <tr>\n",
       "      <th>0</th>\n",
       "      <td>0.412461</td>\n",
       "      <td>0.000000</td>\n",
       "      <td>0.000000</td>\n",
       "      <td>0.000000</td>\n",
       "      <td>0.000000</td>\n",
       "      <td>0.000000</td>\n",
       "      <td>0.000000</td>\n",
       "      <td>0.0</td>\n",
       "      <td>0.000000</td>\n",
       "      <td>0.0</td>\n",
       "      <td>...</td>\n",
       "      <td>0.000000</td>\n",
       "      <td>0.123281</td>\n",
       "      <td>0.000000</td>\n",
       "      <td>0.0</td>\n",
       "      <td>0.0</td>\n",
       "      <td>0.0</td>\n",
       "      <td>0.0</td>\n",
       "      <td>0.0</td>\n",
       "      <td>0.0</td>\n",
       "      <td>0.0</td>\n",
       "    </tr>\n",
       "    <tr>\n",
       "      <th>1</th>\n",
       "      <td>0.475619</td>\n",
       "      <td>0.000000</td>\n",
       "      <td>0.000000</td>\n",
       "      <td>0.000000</td>\n",
       "      <td>0.000000</td>\n",
       "      <td>0.000000</td>\n",
       "      <td>0.000000</td>\n",
       "      <td>0.0</td>\n",
       "      <td>0.000000</td>\n",
       "      <td>0.0</td>\n",
       "      <td>...</td>\n",
       "      <td>0.000000</td>\n",
       "      <td>0.118465</td>\n",
       "      <td>0.000000</td>\n",
       "      <td>0.0</td>\n",
       "      <td>0.0</td>\n",
       "      <td>0.0</td>\n",
       "      <td>0.0</td>\n",
       "      <td>0.0</td>\n",
       "      <td>0.0</td>\n",
       "      <td>0.0</td>\n",
       "    </tr>\n",
       "    <tr>\n",
       "      <th>2</th>\n",
       "      <td>0.421082</td>\n",
       "      <td>0.000000</td>\n",
       "      <td>0.115110</td>\n",
       "      <td>0.000000</td>\n",
       "      <td>0.126607</td>\n",
       "      <td>0.000000</td>\n",
       "      <td>0.000000</td>\n",
       "      <td>0.0</td>\n",
       "      <td>0.000000</td>\n",
       "      <td>0.0</td>\n",
       "      <td>...</td>\n",
       "      <td>0.000000</td>\n",
       "      <td>0.114416</td>\n",
       "      <td>0.000000</td>\n",
       "      <td>0.0</td>\n",
       "      <td>0.0</td>\n",
       "      <td>0.0</td>\n",
       "      <td>0.0</td>\n",
       "      <td>0.0</td>\n",
       "      <td>0.0</td>\n",
       "      <td>0.0</td>\n",
       "    </tr>\n",
       "    <tr>\n",
       "      <th>3</th>\n",
       "      <td>0.377099</td>\n",
       "      <td>0.000000</td>\n",
       "      <td>0.000000</td>\n",
       "      <td>0.000000</td>\n",
       "      <td>0.000000</td>\n",
       "      <td>0.000000</td>\n",
       "      <td>0.000000</td>\n",
       "      <td>0.0</td>\n",
       "      <td>0.000000</td>\n",
       "      <td>0.0</td>\n",
       "      <td>...</td>\n",
       "      <td>0.000000</td>\n",
       "      <td>0.000000</td>\n",
       "      <td>0.000000</td>\n",
       "      <td>0.0</td>\n",
       "      <td>0.0</td>\n",
       "      <td>0.0</td>\n",
       "      <td>0.0</td>\n",
       "      <td>0.0</td>\n",
       "      <td>0.0</td>\n",
       "      <td>0.0</td>\n",
       "    </tr>\n",
       "    <tr>\n",
       "      <th>4</th>\n",
       "      <td>0.409517</td>\n",
       "      <td>0.000000</td>\n",
       "      <td>0.000000</td>\n",
       "      <td>0.000000</td>\n",
       "      <td>0.000000</td>\n",
       "      <td>0.000000</td>\n",
       "      <td>0.000000</td>\n",
       "      <td>0.0</td>\n",
       "      <td>0.000000</td>\n",
       "      <td>0.0</td>\n",
       "      <td>...</td>\n",
       "      <td>0.000000</td>\n",
       "      <td>0.061201</td>\n",
       "      <td>0.146873</td>\n",
       "      <td>0.0</td>\n",
       "      <td>0.0</td>\n",
       "      <td>0.0</td>\n",
       "      <td>0.0</td>\n",
       "      <td>0.0</td>\n",
       "      <td>0.0</td>\n",
       "      <td>0.0</td>\n",
       "    </tr>\n",
       "    <tr>\n",
       "      <th>...</th>\n",
       "      <td>...</td>\n",
       "      <td>...</td>\n",
       "      <td>...</td>\n",
       "      <td>...</td>\n",
       "      <td>...</td>\n",
       "      <td>...</td>\n",
       "      <td>...</td>\n",
       "      <td>...</td>\n",
       "      <td>...</td>\n",
       "      <td>...</td>\n",
       "      <td>...</td>\n",
       "      <td>...</td>\n",
       "      <td>...</td>\n",
       "      <td>...</td>\n",
       "      <td>...</td>\n",
       "      <td>...</td>\n",
       "      <td>...</td>\n",
       "      <td>...</td>\n",
       "      <td>...</td>\n",
       "      <td>...</td>\n",
       "      <td>...</td>\n",
       "    </tr>\n",
       "    <tr>\n",
       "      <th>895</th>\n",
       "      <td>0.172154</td>\n",
       "      <td>0.000000</td>\n",
       "      <td>0.000000</td>\n",
       "      <td>0.000000</td>\n",
       "      <td>0.000000</td>\n",
       "      <td>0.000000</td>\n",
       "      <td>0.000000</td>\n",
       "      <td>0.0</td>\n",
       "      <td>0.000000</td>\n",
       "      <td>0.0</td>\n",
       "      <td>...</td>\n",
       "      <td>0.000000</td>\n",
       "      <td>0.000000</td>\n",
       "      <td>0.000000</td>\n",
       "      <td>0.0</td>\n",
       "      <td>0.0</td>\n",
       "      <td>0.0</td>\n",
       "      <td>0.0</td>\n",
       "      <td>0.0</td>\n",
       "      <td>0.0</td>\n",
       "      <td>0.0</td>\n",
       "    </tr>\n",
       "    <tr>\n",
       "      <th>896</th>\n",
       "      <td>0.368824</td>\n",
       "      <td>0.000000</td>\n",
       "      <td>0.000000</td>\n",
       "      <td>0.000000</td>\n",
       "      <td>0.000000</td>\n",
       "      <td>0.000000</td>\n",
       "      <td>0.000000</td>\n",
       "      <td>0.0</td>\n",
       "      <td>0.000000</td>\n",
       "      <td>0.0</td>\n",
       "      <td>...</td>\n",
       "      <td>0.000000</td>\n",
       "      <td>0.200434</td>\n",
       "      <td>0.000000</td>\n",
       "      <td>0.0</td>\n",
       "      <td>0.0</td>\n",
       "      <td>0.0</td>\n",
       "      <td>0.0</td>\n",
       "      <td>0.0</td>\n",
       "      <td>0.0</td>\n",
       "      <td>0.0</td>\n",
       "    </tr>\n",
       "    <tr>\n",
       "      <th>897</th>\n",
       "      <td>0.483815</td>\n",
       "      <td>0.133263</td>\n",
       "      <td>0.000000</td>\n",
       "      <td>0.122645</td>\n",
       "      <td>0.000000</td>\n",
       "      <td>0.134937</td>\n",
       "      <td>0.141697</td>\n",
       "      <td>0.0</td>\n",
       "      <td>0.000000</td>\n",
       "      <td>0.0</td>\n",
       "      <td>...</td>\n",
       "      <td>0.238025</td>\n",
       "      <td>0.065731</td>\n",
       "      <td>0.000000</td>\n",
       "      <td>0.0</td>\n",
       "      <td>0.0</td>\n",
       "      <td>0.0</td>\n",
       "      <td>0.0</td>\n",
       "      <td>0.0</td>\n",
       "      <td>0.0</td>\n",
       "      <td>0.0</td>\n",
       "    </tr>\n",
       "    <tr>\n",
       "      <th>898</th>\n",
       "      <td>0.406087</td>\n",
       "      <td>0.000000</td>\n",
       "      <td>0.203519</td>\n",
       "      <td>0.000000</td>\n",
       "      <td>0.000000</td>\n",
       "      <td>0.103820</td>\n",
       "      <td>0.000000</td>\n",
       "      <td>0.0</td>\n",
       "      <td>0.000000</td>\n",
       "      <td>0.0</td>\n",
       "      <td>...</td>\n",
       "      <td>0.000000</td>\n",
       "      <td>0.202294</td>\n",
       "      <td>0.000000</td>\n",
       "      <td>0.0</td>\n",
       "      <td>0.0</td>\n",
       "      <td>0.0</td>\n",
       "      <td>0.0</td>\n",
       "      <td>0.0</td>\n",
       "      <td>0.0</td>\n",
       "      <td>0.0</td>\n",
       "    </tr>\n",
       "    <tr>\n",
       "      <th>899</th>\n",
       "      <td>0.259613</td>\n",
       "      <td>0.000000</td>\n",
       "      <td>0.097583</td>\n",
       "      <td>0.090490</td>\n",
       "      <td>0.000000</td>\n",
       "      <td>0.000000</td>\n",
       "      <td>0.000000</td>\n",
       "      <td>0.0</td>\n",
       "      <td>0.112739</td>\n",
       "      <td>0.0</td>\n",
       "      <td>...</td>\n",
       "      <td>0.000000</td>\n",
       "      <td>0.000000</td>\n",
       "      <td>0.000000</td>\n",
       "      <td>0.0</td>\n",
       "      <td>0.0</td>\n",
       "      <td>0.0</td>\n",
       "      <td>0.0</td>\n",
       "      <td>0.0</td>\n",
       "      <td>0.0</td>\n",
       "      <td>0.0</td>\n",
       "    </tr>\n",
       "  </tbody>\n",
       "</table>\n",
       "<p>900 rows × 44 columns</p>\n",
       "</div>"
      ],
      "text/plain": [
       "           0         1         2         3         4         5         6   \\\n",
       "0    0.412461  0.000000  0.000000  0.000000  0.000000  0.000000  0.000000   \n",
       "1    0.475619  0.000000  0.000000  0.000000  0.000000  0.000000  0.000000   \n",
       "2    0.421082  0.000000  0.115110  0.000000  0.126607  0.000000  0.000000   \n",
       "3    0.377099  0.000000  0.000000  0.000000  0.000000  0.000000  0.000000   \n",
       "4    0.409517  0.000000  0.000000  0.000000  0.000000  0.000000  0.000000   \n",
       "..        ...       ...       ...       ...       ...       ...       ...   \n",
       "895  0.172154  0.000000  0.000000  0.000000  0.000000  0.000000  0.000000   \n",
       "896  0.368824  0.000000  0.000000  0.000000  0.000000  0.000000  0.000000   \n",
       "897  0.483815  0.133263  0.000000  0.122645  0.000000  0.134937  0.141697   \n",
       "898  0.406087  0.000000  0.203519  0.000000  0.000000  0.103820  0.000000   \n",
       "899  0.259613  0.000000  0.097583  0.090490  0.000000  0.000000  0.000000   \n",
       "\n",
       "      7         8    9   ...        34        35        36   37   38   39  \\\n",
       "0    0.0  0.000000  0.0  ...  0.000000  0.123281  0.000000  0.0  0.0  0.0   \n",
       "1    0.0  0.000000  0.0  ...  0.000000  0.118465  0.000000  0.0  0.0  0.0   \n",
       "2    0.0  0.000000  0.0  ...  0.000000  0.114416  0.000000  0.0  0.0  0.0   \n",
       "3    0.0  0.000000  0.0  ...  0.000000  0.000000  0.000000  0.0  0.0  0.0   \n",
       "4    0.0  0.000000  0.0  ...  0.000000  0.061201  0.146873  0.0  0.0  0.0   \n",
       "..   ...       ...  ...  ...       ...       ...       ...  ...  ...  ...   \n",
       "895  0.0  0.000000  0.0  ...  0.000000  0.000000  0.000000  0.0  0.0  0.0   \n",
       "896  0.0  0.000000  0.0  ...  0.000000  0.200434  0.000000  0.0  0.0  0.0   \n",
       "897  0.0  0.000000  0.0  ...  0.238025  0.065731  0.000000  0.0  0.0  0.0   \n",
       "898  0.0  0.000000  0.0  ...  0.000000  0.202294  0.000000  0.0  0.0  0.0   \n",
       "899  0.0  0.112739  0.0  ...  0.000000  0.000000  0.000000  0.0  0.0  0.0   \n",
       "\n",
       "      40   41   42   43  \n",
       "0    0.0  0.0  0.0  0.0  \n",
       "1    0.0  0.0  0.0  0.0  \n",
       "2    0.0  0.0  0.0  0.0  \n",
       "3    0.0  0.0  0.0  0.0  \n",
       "4    0.0  0.0  0.0  0.0  \n",
       "..   ...  ...  ...  ...  \n",
       "895  0.0  0.0  0.0  0.0  \n",
       "896  0.0  0.0  0.0  0.0  \n",
       "897  0.0  0.0  0.0  0.0  \n",
       "898  0.0  0.0  0.0  0.0  \n",
       "899  0.0  0.0  0.0  0.0  \n",
       "\n",
       "[900 rows x 44 columns]"
      ]
     },
     "execution_count": 55,
     "metadata": {},
     "output_type": "execute_result"
    }
   ],
   "source": [
    "X_test_vect"
   ]
  },
  {
   "cell_type": "code",
   "execution_count": 56,
   "id": "75826675",
   "metadata": {},
   "outputs": [],
   "source": [
    "y_test = rf_model.predict(X_test_vect)"
   ]
  },
  {
   "cell_type": "code",
   "execution_count": 57,
   "id": "1b1a6606",
   "metadata": {},
   "outputs": [],
   "source": [
    "tweet_df['label'] = y_test"
   ]
  },
  {
   "cell_type": "markdown",
   "id": "d0b74f43",
   "metadata": {},
   "source": [
    "* Value Counts of SPAM and not SPAM"
   ]
  },
  {
   "cell_type": "code",
   "execution_count": 58,
   "id": "4e2ad66f",
   "metadata": {},
   "outputs": [
    {
     "data": {
      "text/plain": [
       "ham     869\n",
       "spam     31\n",
       "Name: label, dtype: int64"
      ]
     },
     "execution_count": 58,
     "metadata": {},
     "output_type": "execute_result"
    }
   ],
   "source": [
    "tweet_df['label'].value_counts()"
   ]
  },
  {
   "cell_type": "markdown",
   "id": "50bdb304",
   "metadata": {},
   "source": [
    "## Phase 2.2: Classified SPAM Tweet Analysis"
   ]
  },
  {
   "cell_type": "markdown",
   "id": "3c786a61",
   "metadata": {},
   "source": [
    "### List of Tweets classified SPAM"
   ]
  },
  {
   "cell_type": "code",
   "execution_count": 59,
   "id": "0b53963a",
   "metadata": {
    "scrolled": false
   },
   "outputs": [
    {
     "data": {
      "text/html": [
       "<div>\n",
       "<style scoped>\n",
       "    .dataframe tbody tr th:only-of-type {\n",
       "        vertical-align: middle;\n",
       "    }\n",
       "\n",
       "    .dataframe tbody tr th {\n",
       "        vertical-align: top;\n",
       "    }\n",
       "\n",
       "    .dataframe thead th {\n",
       "        text-align: right;\n",
       "    }\n",
       "</style>\n",
       "<table border=\"1\" class=\"dataframe\">\n",
       "  <thead>\n",
       "    <tr style=\"text-align: right;\">\n",
       "      <th></th>\n",
       "      <th>text</th>\n",
       "      <th>cleaned_text</th>\n",
       "      <th>Subjectivity</th>\n",
       "      <th>Polarity</th>\n",
       "      <th>Analysis_Polarity</th>\n",
       "      <th>Analysis_Subjectivity</th>\n",
       "      <th>label</th>\n",
       "    </tr>\n",
       "  </thead>\n",
       "  <tbody>\n",
       "    <tr>\n",
       "      <th>53</th>\n",
       "      <td>Russia has taken 448,000 children out of Ukrai...</td>\n",
       "      <td>russia taken 448000 child ukraine russian prop...</td>\n",
       "      <td>0.050000</td>\n",
       "      <td>0.000000</td>\n",
       "      <td>Neutral</td>\n",
       "      <td>Opinion</td>\n",
       "      <td>spam</td>\n",
       "    </tr>\n",
       "    <tr>\n",
       "      <th>92</th>\n",
       "      <td>The New York Times Discovers Ukraine’s Neo-Naz...</td>\n",
       "      <td>new york time discovers ukraine neonazis war20...</td>\n",
       "      <td>0.454545</td>\n",
       "      <td>0.136364</td>\n",
       "      <td>Positive</td>\n",
       "      <td>Opinion</td>\n",
       "      <td>spam</td>\n",
       "    </tr>\n",
       "    <tr>\n",
       "      <th>99</th>\n",
       "      <td>#UKRAINERUSSIAWAR. By 2019, Kiev was preparing...</td>\n",
       "      <td>ukrainerussiawar 2019 kiev preparing war mosco...</td>\n",
       "      <td>0.000000</td>\n",
       "      <td>0.000000</td>\n",
       "      <td>Neutral</td>\n",
       "      <td>Fact</td>\n",
       "      <td>spam</td>\n",
       "    </tr>\n",
       "    <tr>\n",
       "      <th>100</th>\n",
       "      <td>#UKRAINERUSSIAWAR. By 2019, Kiev was preparing...</td>\n",
       "      <td>ukrainerussiawar 2019 kiev preparing war mosco...</td>\n",
       "      <td>0.000000</td>\n",
       "      <td>0.000000</td>\n",
       "      <td>Neutral</td>\n",
       "      <td>Fact</td>\n",
       "      <td>spam</td>\n",
       "    </tr>\n",
       "    <tr>\n",
       "      <th>101</th>\n",
       "      <td>#UKRAINERUSSIAWAR. By 2019, Kiev was preparing...</td>\n",
       "      <td>ukrainerussiawar 2019 kiev preparing war mosco...</td>\n",
       "      <td>0.000000</td>\n",
       "      <td>0.000000</td>\n",
       "      <td>Neutral</td>\n",
       "      <td>Fact</td>\n",
       "      <td>spam</td>\n",
       "    </tr>\n",
       "  </tbody>\n",
       "</table>\n",
       "</div>"
      ],
      "text/plain": [
       "                                                  text  \\\n",
       "53   Russia has taken 448,000 children out of Ukrai...   \n",
       "92   The New York Times Discovers Ukraine’s Neo-Naz...   \n",
       "99   #UKRAINERUSSIAWAR. By 2019, Kiev was preparing...   \n",
       "100  #UKRAINERUSSIAWAR. By 2019, Kiev was preparing...   \n",
       "101  #UKRAINERUSSIAWAR. By 2019, Kiev was preparing...   \n",
       "\n",
       "                                          cleaned_text  Subjectivity  \\\n",
       "53   russia taken 448000 child ukraine russian prop...      0.050000   \n",
       "92   new york time discovers ukraine neonazis war20...      0.454545   \n",
       "99   ukrainerussiawar 2019 kiev preparing war mosco...      0.000000   \n",
       "100  ukrainerussiawar 2019 kiev preparing war mosco...      0.000000   \n",
       "101  ukrainerussiawar 2019 kiev preparing war mosco...      0.000000   \n",
       "\n",
       "     Polarity Analysis_Polarity Analysis_Subjectivity label  \n",
       "53   0.000000           Neutral               Opinion  spam  \n",
       "92   0.136364          Positive               Opinion  spam  \n",
       "99   0.000000           Neutral                  Fact  spam  \n",
       "100  0.000000           Neutral                  Fact  spam  \n",
       "101  0.000000           Neutral                  Fact  spam  "
      ]
     },
     "execution_count": 59,
     "metadata": {},
     "output_type": "execute_result"
    }
   ],
   "source": [
    "tweet_spam_df = tweet_df[tweet_df['label']=='spam']\n",
    "tweet_spam_df.head()"
   ]
  },
  {
   "cell_type": "markdown",
   "id": "6644edf1",
   "metadata": {},
   "source": [
    "### SPAM CLassified: Polarity and Sentiment Analysis"
   ]
  },
  {
   "cell_type": "code",
   "execution_count": 60,
   "id": "478a4885",
   "metadata": {
    "scrolled": true
   },
   "outputs": [
    {
     "data": {
      "image/png": "[encoded data removed]",
      "text/plain": [
       "<Figure size 1080x720 with 1 Axes>"
      ]
     },
     "metadata": {
      "needs_background": "light"
     },
     "output_type": "display_data"
    }
   ],
   "source": [
    "# Plotting and visualizing the counts\n",
    "plt.figure(figsize=(15,10)) \n",
    "\n",
    "plt.title('Polarity Sentiment Analysis')\n",
    "plt.xlabel('Sentiment')\n",
    "plt.ylabel('Counts')\n",
    "tweet_spam_df['Analysis_Polarity'].value_counts().plot(kind = 'bar')\n",
    "plt.show()"
   ]
  },
  {
   "cell_type": "code",
   "execution_count": 61,
   "id": "e1187a18",
   "metadata": {},
   "outputs": [
    {
     "data": {
      "image/png": "[encoded data removed]",
      "text/plain": [
       "<Figure size 1080x720 with 1 Axes>"
      ]
     },
     "metadata": {
      "needs_background": "light"
     },
     "output_type": "display_data"
    },
    {
     "data": {
      "text/plain": [
       "(None,)"
      ]
     },
     "execution_count": 61,
     "metadata": {},
     "output_type": "execute_result"
    }
   ],
   "source": [
    "plt.figure(figsize=(15,10)) \n",
    "\n",
    "# plt.style.use('seaborn-pastel')\n",
    "\n",
    "plt.scatter(tweet_spam_df['Polarity'], tweet_spam_df['Subjectivity'], c=tweet_spam_df['Polarity'], s=100, cmap='RdYlGn') \n",
    "\n",
    "plt.xlim(-1.1, 1.1)\n",
    "plt.ylim(-0.1, 1.1) \n",
    "plt.title('Sentiment Analysis') \n",
    "plt.xlabel('Polarity') \n",
    "plt.ylabel('Subjectivity') \n",
    "plt.show(),"
   ]
  },
  {
   "cell_type": "markdown",
   "id": "a69d3741",
   "metadata": {},
   "source": [
    "### SPAM Classified: Subjectivy Analysis"
   ]
  },
  {
   "cell_type": "code",
   "execution_count": 62,
   "id": "35ac3acd",
   "metadata": {
    "scrolled": true
   },
   "outputs": [
    {
     "data": {
      "image/png": "[encoded data removed]",
      "text/plain": [
       "<Figure size 1080x720 with 1 Axes>"
      ]
     },
     "metadata": {
      "needs_background": "light"
     },
     "output_type": "display_data"
    }
   ],
   "source": [
    "# Plotting and visualizing the counts\n",
    "plt.figure(figsize=(15,10)) \n",
    "\n",
    "plt.title('Subjectivity Sentiment Analysis')\n",
    "plt.xlabel('Sentiment')\n",
    "plt.ylabel('Counts')\n",
    "tweet_spam_df['Analysis_Subjectivity'].value_counts().plot(kind = 'bar')\n",
    "plt.show()"
   ]
  },
  {
   "cell_type": "markdown",
   "id": "5d0caacf",
   "metadata": {},
   "source": [
    "## Phase 2.3: Classified NOT SPAM (HAM) Tweet Analysis"
   ]
  },
  {
   "cell_type": "code",
   "execution_count": 63,
   "id": "e8d7269c",
   "metadata": {
    "scrolled": false
   },
   "outputs": [
    {
     "data": {
      "text/html": [
       "<div>\n",
       "<style scoped>\n",
       "    .dataframe tbody tr th:only-of-type {\n",
       "        vertical-align: middle;\n",
       "    }\n",
       "\n",
       "    .dataframe tbody tr th {\n",
       "        vertical-align: top;\n",
       "    }\n",
       "\n",
       "    .dataframe thead th {\n",
       "        text-align: right;\n",
       "    }\n",
       "</style>\n",
       "<table border=\"1\" class=\"dataframe\">\n",
       "  <thead>\n",
       "    <tr style=\"text-align: right;\">\n",
       "      <th></th>\n",
       "      <th>text</th>\n",
       "      <th>cleaned_text</th>\n",
       "      <th>Subjectivity</th>\n",
       "      <th>Polarity</th>\n",
       "      <th>Analysis_Polarity</th>\n",
       "      <th>Analysis_Subjectivity</th>\n",
       "      <th>label</th>\n",
       "    </tr>\n",
       "  </thead>\n",
       "  <tbody>\n",
       "    <tr>\n",
       "      <th>0</th>\n",
       "      <td>🇲🇩 Moldova fears war with Russia.\\n\\nThis is a...</td>\n",
       "      <td>moldova fear war russiathis risk still hypoth...</td>\n",
       "      <td>0.000000</td>\n",
       "      <td>0.000000</td>\n",
       "      <td>Neutral</td>\n",
       "      <td>Fact</td>\n",
       "      <td>ham</td>\n",
       "    </tr>\n",
       "    <tr>\n",
       "      <th>1</th>\n",
       "      <td>BRICS is real and gonna be an issue for us, I ...</td>\n",
       "      <td>brics real gonna issue u guess u imperialism g...</td>\n",
       "      <td>0.433333</td>\n",
       "      <td>0.066667</td>\n",
       "      <td>Positive</td>\n",
       "      <td>Opinion</td>\n",
       "      <td>ham</td>\n",
       "    </tr>\n",
       "    <tr>\n",
       "      <th>2</th>\n",
       "      <td>13. #Russian  Navy's ships struck the territor...</td>\n",
       "      <td>13 russian navy ship struck territory odessa p...</td>\n",
       "      <td>0.000000</td>\n",
       "      <td>0.000000</td>\n",
       "      <td>Neutral</td>\n",
       "      <td>Fact</td>\n",
       "      <td>ham</td>\n",
       "    </tr>\n",
       "    <tr>\n",
       "      <th>3</th>\n",
       "      <td>“#Russia, within the framework of the grain de...</td>\n",
       "      <td>russia within framework grain deal assume obl...</td>\n",
       "      <td>0.000000</td>\n",
       "      <td>0.000000</td>\n",
       "      <td>Neutral</td>\n",
       "      <td>Fact</td>\n",
       "      <td>ham</td>\n",
       "    </tr>\n",
       "    <tr>\n",
       "      <th>4</th>\n",
       "      <td>The Illuminati playbook can be found in the Pr...</td>\n",
       "      <td>illuminati playbook found protocol wise men zi...</td>\n",
       "      <td>0.900000</td>\n",
       "      <td>0.700000</td>\n",
       "      <td>Positive</td>\n",
       "      <td>Opinion</td>\n",
       "      <td>ham</td>\n",
       "    </tr>\n",
       "  </tbody>\n",
       "</table>\n",
       "</div>"
      ],
      "text/plain": [
       "                                                text  \\\n",
       "0  🇲🇩 Moldova fears war with Russia.\\n\\nThis is a...   \n",
       "1  BRICS is real and gonna be an issue for us, I ...   \n",
       "2  13. #Russian  Navy's ships struck the territor...   \n",
       "3  “#Russia, within the framework of the grain de...   \n",
       "4  The Illuminati playbook can be found in the Pr...   \n",
       "\n",
       "                                        cleaned_text  Subjectivity  Polarity  \\\n",
       "0   moldova fear war russiathis risk still hypoth...      0.000000  0.000000   \n",
       "1  brics real gonna issue u guess u imperialism g...      0.433333  0.066667   \n",
       "2  13 russian navy ship struck territory odessa p...      0.000000  0.000000   \n",
       "3   russia within framework grain deal assume obl...      0.000000  0.000000   \n",
       "4  illuminati playbook found protocol wise men zi...      0.900000  0.700000   \n",
       "\n",
       "  Analysis_Polarity Analysis_Subjectivity label  \n",
       "0           Neutral                  Fact   ham  \n",
       "1          Positive               Opinion   ham  \n",
       "2           Neutral                  Fact   ham  \n",
       "3           Neutral                  Fact   ham  \n",
       "4          Positive               Opinion   ham  "
      ]
     },
     "execution_count": 63,
     "metadata": {},
     "output_type": "execute_result"
    }
   ],
   "source": [
    "tweet_ham_df = tweet_df[tweet_df['label']!='spam']\n",
    "tweet_ham_df.head()"
   ]
  },
  {
   "cell_type": "markdown",
   "id": "0fb4b1cf",
   "metadata": {},
   "source": [
    "### NOT SPAM CLassified: Polarity and Sentiment Analysis"
   ]
  },
  {
   "cell_type": "code",
   "execution_count": 64,
   "id": "6aaba147",
   "metadata": {
    "scrolled": true
   },
   "outputs": [
    {
     "data": {
      "image/png": "[encoded data removed]",
      "text/plain": [
       "<Figure size 1080x720 with 1 Axes>"
      ]
     },
     "metadata": {
      "needs_background": "light"
     },
     "output_type": "display_data"
    }
   ],
   "source": [
    "# Plotting and visualizing the counts\n",
    "plt.figure(figsize=(15,10)) \n",
    "\n",
    "plt.title('Polarity Sentiment Analysis')\n",
    "plt.xlabel('Sentiment')\n",
    "plt.ylabel('Counts')\n",
    "tweet_ham_df['Analysis_Polarity'].value_counts().plot(kind = 'bar')\n",
    "plt.show()"
   ]
  },
  {
   "cell_type": "code",
   "execution_count": 65,
   "id": "ee12c44e",
   "metadata": {},
   "outputs": [
    {
     "data": {
      "image/png": "[encoded data removed]",
      "text/plain": [
       "<Figure size 1080x720 with 1 Axes>"
      ]
     },
     "metadata": {
      "needs_background": "light"
     },
     "output_type": "display_data"
    },
    {
     "data": {
      "text/plain": [
       "(None,)"
      ]
     },
     "execution_count": 65,
     "metadata": {},
     "output_type": "execute_result"
    }
   ],
   "source": [
    "plt.figure(figsize=(15,10)) \n",
    "\n",
    "# plt.style.use('seaborn-pastel')\n",
    "\n",
    "plt.scatter(tweet_ham_df['Polarity'], tweet_ham_df['Subjectivity'], c=tweet_ham_df['Polarity'], s=100, cmap='RdYlGn') \n",
    "\n",
    "plt.xlim(-1.1, 1.1)\n",
    "plt.ylim(-0.1, 1.1) \n",
    "plt.title('Sentiment Analysis') \n",
    "plt.xlabel('Polarity') \n",
    "plt.ylabel('Subjectivity') \n",
    "plt.show(),"
   ]
  },
  {
   "cell_type": "markdown",
   "id": "692725c9",
   "metadata": {},
   "source": [
    "### NOT SPAM Classified: Subjectivy Analysis"
   ]
  },
  {
   "cell_type": "code",
   "execution_count": 66,
   "id": "bedf4253",
   "metadata": {},
   "outputs": [
    {
     "data": {
      "image/png": "[encoded data removed]",
      "text/plain": [
       "<Figure size 1080x720 with 1 Axes>"
      ]
     },
     "metadata": {
      "needs_background": "light"
     },
     "output_type": "display_data"
    }
   ],
   "source": [
    "# Plotting and visualizing the counts\n",
    "plt.figure(figsize=(15,10)) \n",
    "\n",
    "plt.title('Subjectivity Sentiment Analysis')\n",
    "plt.xlabel('Sentiment')\n",
    "plt.ylabel('Counts')\n",
    "tweet_ham_df['Analysis_Subjectivity'].value_counts().plot(kind = 'bar')\n",
    "plt.show()"
   ]
  }
 ],
 "metadata": {
  "kernelspec": {
   "display_name": "Python 3 (ipykernel)",
   "language": "python",
   "name": "python3"
  },
  "language_info": {
   "codemirror_mode": {
    "name": "ipython",
    "version": 3
   },
   "file_extension": ".py",
   "mimetype": "text/x-python",
   "name": "python",
   "nbconvert_exporter": "python",
   "pygments_lexer": "ipython3",
   "version": "3.9.12"
  }
 },
 "nbformat": 4,
 "nbformat_minor": 5
}
